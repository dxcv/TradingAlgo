{
 "cells": [
  {
   "cell_type": "markdown",
   "metadata": {},
   "source": [
    "https://github.com/Regressionist/Stock-prediction-Dual-Attention-based-RNN-"
   ]
  },
  {
   "cell_type": "code",
   "execution_count": 1,
   "metadata": {},
   "outputs": [],
   "source": [
    "import numpy as np\n",
    "import pandas as pd\n",
    "import matplotlib.pyplot as plt\n",
    "import torch\n",
    "from torch import nn\n",
    "from torch.autograd import Variable\n",
    "from torch import optim\n",
    "import torch.nn.functional as F\n",
    "from torch.utils.data import Dataset, DataLoader\n",
    "from torchvision import transforms, utils\n",
    "\n",
    "from modules import Encoder, Decoder"
   ]
  },
  {
   "cell_type": "code",
   "execution_count": 2,
   "metadata": {},
   "outputs": [],
   "source": [
    "train_df=pd.read_csv('data/train.csv')\n",
    "validation_df=pd.read_csv('data/validation.csv')\n",
    "validation_df=pd.concat([train_df[-9:],validation_df])\n",
    "validation_df=validation_df.reset_index(drop=True)\n",
    "test_df=pd.read_csv('data/test.csv')\n",
    "train_df.drop(['High', 'Low', 'Timestamp'],axis=1,inplace=True)\n",
    "validation_df.drop(['High', 'Low', 'Timestamp'],axis=1,inplace=True)\n",
    "test_df.drop(['High', 'Low','Timestamp'],axis=1,inplace=True)"
   ]
  },
  {
   "cell_type": "code",
   "execution_count": 3,
   "metadata": {},
   "outputs": [],
   "source": [
    "class dataprep(Dataset):\n",
    "    def __init__(self, dataframe):\n",
    "        self.df=dataframe\n",
    "    def __len__(self):\n",
    "        return self.df.shape[0]-10\n",
    "    def __getitem__(self,idx):\n",
    "        if (idx+10<self.df.shape[0]):\n",
    "            X=torch.from_numpy(self.df.drop('Close',axis=1)[idx:idx+10].values)\n",
    "            targets=torch.from_numpy(self.df['Close'][idx:idx+9].values)\n",
    "            y=torch.tensor([self.df['Close'].loc[idx+9]])\n",
    "#            X=torch.from_numpy(np.log(self.df.drop('Close',axis=1)[idx:idx+10].values))\n",
    "#            targets=torch.from_numpy(np.log(self.df['Close'][idx:idx+9].values))\n",
    "#            y=torch.tensor([np.log(self.df['Close'].loc[idx+9])])\n",
    "            return ({'X':X, 'targets':targets, 'y': y})"
   ]
  },
  {
   "cell_type": "code",
   "execution_count": 4,
   "metadata": {},
   "outputs": [],
   "source": [
    "train_set=dataprep(dataframe=train_df)\n",
    "validation_set=dataprep(dataframe=validation_df)\n",
    "test_set=dataprep(dataframe=test_df)"
   ]
  },
  {
   "cell_type": "code",
   "execution_count": null,
   "metadata": {},
   "outputs": [
    {
     "name": "stdout",
     "output_type": "stream",
     "text": [
      "60 torch.Size([10, 2]) torch.Size([9]) torch.Size([1])\n",
      "61 torch.Size([10, 2]) torch.Size([9]) torch.Size([1])\n",
      "62 torch.Size([10, 2]) torch.Size([9]) torch.Size([1])\n"
     ]
    }
   ],
   "source": [
    "for i in range(60,63):\n",
    "    sample=validation_set[i]\n",
    "    print (i,sample['X'].size(),sample['targets'].size(), sample['y'].size())"
   ]
  },
  {
   "cell_type": "code",
   "execution_count": null,
   "metadata": {},
   "outputs": [
    {
     "data": {
      "text/plain": [
       "9613"
      ]
     },
     "execution_count": 6,
     "metadata": {},
     "output_type": "execute_result"
    }
   ],
   "source": [
    "len(train_set)"
   ]
  },
  {
   "cell_type": "code",
   "execution_count": null,
   "metadata": {},
   "outputs": [],
   "source": [
    "train_loader = DataLoader(train_set, batch_size=16, shuffle=True)\n",
    "val_loader = DataLoader(validation_set, batch_size=1, shuffle=False)\n",
    "test_loader = DataLoader(test_set, batch_size=1, shuffle=False)"
   ]
  },
  {
   "cell_type": "code",
   "execution_count": null,
   "metadata": {},
   "outputs": [],
   "source": []
  },
  {
   "cell_type": "code",
   "execution_count": null,
   "metadata": {},
   "outputs": [],
   "source": [
    "def train(encoder,decoder,encoder_optimizer, decoder_optimizer, train_loader, loss_criterion, rl, num_epochs, epoch, epochs):\n",
    "    running_loss=0\n",
    "    for i, sample in enumerate(train_loader):\n",
    "        x=Variable(sample['X'].type(torch.FloatTensor))\n",
    "        y=Variable(sample['targets'].type(torch.FloatTensor))\n",
    "        y_true=Variable(sample['y'].type(torch.FloatTensor))\n",
    "        \n",
    "        encoder_optimizer.zero_grad()\n",
    "        decoder_optimizer.zero_grad()\n",
    "        \n",
    "#        hidden=encoder.initHidden(16)\n",
    "        weighted_, encoded=encoder(x)\n",
    "#        hidden=decoder.initHidden(16)\n",
    "#        y_pred=decoder(encoded,y,16,hidden)\n",
    "        y_pred=decoder(encoded,y)\n",
    "        \n",
    "        loss=loss_criterion(y_pred,y_true)\n",
    "        running_loss+=loss.item()\n",
    "        rl.append(loss.item())\n",
    "        \n",
    "        loss.backward()\n",
    "        encoder_optimizer.step()\n",
    "        decoder_optimizer.step()\n",
    "        \n",
    "    print('Epoch: {}/{} | Loss: {}'.format(epoch-epochs+1, num_epochs, running_loss))\n",
    "            "
   ]
  },
  {
   "cell_type": "code",
   "execution_count": null,
   "metadata": {},
   "outputs": [],
   "source": [
    "def pp(y_pred,y_true):\n",
    "    r=0\n",
    "    for t in range(0,len(y_pred)-1):\n",
    "        if((y_pred[t+1]>=y_pred[t] and y_true[t+1]>=y_true[t]) or (y_pred[t+1]<y_pred[t] and y_true[t+1]<y_true[t])):\n",
    "            r=r+1\n",
    "    return r/len(y_pred)"
   ]
  },
  {
   "cell_type": "code",
   "execution_count": null,
   "metadata": {},
   "outputs": [],
   "source": [
    "def evaluate(encoder,decoder, val_loader, loss_criterion, num_epochs, epoch, epochs):\n",
    "    eval_loss=0\n",
    "    y_predicted=[]\n",
    "    y_actual=[]\n",
    "    with torch.no_grad():\n",
    "        for i,sample in enumerate(val_loader):\n",
    "            x=sample['X'].type(torch.FloatTensor)\n",
    "            y=sample['targets'].type(torch.FloatTensor)\n",
    "            y_true=sample['y'].type(torch.FloatTensor)\n",
    "            \n",
    " #           hidden=encoder.initHidden(1)\n",
    "            weighted_, encoded=encoder(x)\n",
    "#            hidden=decoder.initHidden(1)\n",
    "            y_pred=decoder(encoded,y)\n",
    "        \n",
    "            loss=loss_criterion(y_pred,y_true)\n",
    "            eval_loss+=loss.item()\n",
    "            y_predicted.append(y_pred.item())\n",
    "            y_actual.append(y_true.item())\n",
    "            \n",
    "        pred_perf=pp(y_predicted, y_actual)\n",
    "    print('Epoch: {}/{} | Evaluation_Loss: {} | Pred. Power: {}'.format(epoch-epochs+1, num_epochs, eval_loss, pred_perf))        \n",
    "    plt.plot(range(len(y_predicted)),y_predicted,color='red')\n",
    "    plt.plot(range(len(y_actual)),y_actual,color='blue')\n",
    "    #print(len(y_predicted),len(y_actual))\n",
    "    plt.show()\n",
    "    \n",
    "    \n",
    "    return eval_loss,pred_perf"
   ]
  },
  {
   "cell_type": "code",
   "execution_count": null,
   "metadata": {},
   "outputs": [],
   "source": [
    "encoder=Encoder(input_size = 2, hidden_size=16, T = 1)\n",
    "decoder = Decoder(encoder_hidden_size = 16, decoder_hidden_size = 16, T =1)\n",
    "#device = torch.device(\"cuda\" if torch.cuda.is_available() else \"cpu\")\n",
    "device = torch.device(\"cpu\")"
   ]
  },
  {
   "cell_type": "code",
   "execution_count": null,
   "metadata": {},
   "outputs": [],
   "source": [
    "encoder_optimizer = optim.Adam(encoder.parameters())\n",
    "decoder_optimizer = optim.Adam(decoder.parameters())\n",
    "criterion=nn.MSELoss()"
   ]
  },
  {
   "cell_type": "code",
   "execution_count": null,
   "metadata": {},
   "outputs": [
    {
     "name": "stderr",
     "output_type": "stream",
     "text": [
      "/home/AD/xiaosheng.xu/anaconda3/envs/python36/lib/python3.6/site-packages/ipykernel_launcher.py:11: RuntimeWarning: divide by zero encountered in log\n",
      "  # This is added back by InteractiveShellApp.init_path()\n",
      "/home/AD/xiaosheng.xu/anaconda3/envs/python36/lib/python3.6/site-packages/ipykernel_launcher.py:12: RuntimeWarning: divide by zero encountered in log\n",
      "  if sys.path[0] == '':\n",
      "/home/AD/xiaosheng.xu/anaconda3/envs/python36/lib/python3.6/site-packages/ipykernel_launcher.py:13: RuntimeWarning: divide by zero encountered in log\n",
      "  del sys.path[0]\n"
     ]
    },
    {
     "name": "stdout",
     "output_type": "stream",
     "text": [
      "Epoch: 1/20 | Loss: nan\n",
      "Epoch: 1/20 | Evaluation_Loss: nan | Pred. Power: 0.0\n"
     ]
    },
    {
     "data": {
      "image/png": "[encoded data removed]",
      "text/plain": [
       "<Figure size 432x288 with 1 Axes>"
      ]
     },
     "metadata": {
      "needs_background": "light"
     },
     "output_type": "display_data"
    },
    {
     "name": "stdout",
     "output_type": "stream",
     "text": [
      "eval_loss: nan  pred_perf: 0.0\n",
      "Epoch: 2/20 | Loss: nan\n",
      "Epoch: 2/20 | Evaluation_Loss: nan | Pred. Power: 0.0\n"
     ]
    },
    {
     "data": {
      "image/png": "[encoded data removed]",
      "text/plain": [
       "<Figure size 432x288 with 1 Axes>"
      ]
     },
     "metadata": {
      "needs_background": "light"
     },
     "output_type": "display_data"
    },
    {
     "name": "stdout",
     "output_type": "stream",
     "text": [
      "eval_loss: nan  pred_perf: 0.0\n",
      "Epoch: 3/20 | Loss: nan\n",
      "Epoch: 3/20 | Evaluation_Loss: nan | Pred. Power: 0.0\n"
     ]
    },
    {
     "data": {
      "image/png": "[encoded data removed]",
      "text/plain": [
       "<Figure size 432x288 with 1 Axes>"
      ]
     },
     "metadata": {
      "needs_background": "light"
     },
     "output_type": "display_data"
    },
    {
     "name": "stdout",
     "output_type": "stream",
     "text": [
      "eval_loss: nan  pred_perf: 0.0\n"
     ]
    }
   ],
   "source": [
    "rl=[]\n",
    "num_epochs=20\n",
    "epochs=0\n",
    "for epoch in range(epochs,epochs+num_epochs):\n",
    "    train(encoder,decoder,encoder_optimizer, decoder_optimizer,train_loader,criterion,rl,num_epochs, epoch, epochs)\n",
    "    eval_loss, pred_perf=evaluate(encoder,decoder, val_loader, criterion, num_epochs, epoch, epochs)\n",
    "    print('eval_loss: {}  pred_perf: {}'.format(eval_loss, pred_perf))\n",
    "    if (eval_loss<0.01 and pred_perf>0.5):\n",
    "        print ('%---Saving the model---%')\n",
    "        torch.save({\n",
    "            'epoch': epoch+1,\n",
    "            'encoder_state_dict': encoder.state_dict(),\n",
    "            'decoder_state_dict': decoder.state_dict(),\n",
    "            'encoder_optimizer_state_dict': encoder_optimizer.state_dict(),\n",
    "            'decoder_optimizer_state_dict': decoder_optimizer.state_dict(),\n",
    "            'loss': rl,\n",
    "            },'models/OpenPrice/model_{}.pth'.format(epoch+1))\n",
    "    "
   ]
  },
  {
   "cell_type": "code",
   "execution_count": null,
   "metadata": {},
   "outputs": [],
   "source": [
    "%matplotlib notebook\n",
    "\n",
    "eval_loss=0\n",
    "y_predicted=[]\n",
    "y_actual=[]\n",
    "with torch.no_grad():\n",
    "    for i,sample in enumerate(val_loader):\n",
    "        x=sample['X'].type(torch.FloatTensor)\n",
    "        y=sample['targets'].type(torch.FloatTensor)\n",
    "        y_true=sample['y'].type(torch.FloatTensor)\n",
    "            \n",
    " #       hidden=encoder.initHidden(1)\n",
    "        encoded=encoder(x)\n",
    "#        hidden=decoder.initHidden(1)\n",
    "        y_pred=decoder(encoded,y)\n",
    "        \n",
    "        loss=loss_criterion(y_pred,y_true)\n",
    "        eval_loss+=loss.item()\n",
    "        y_predicted.append(y_pred.item())\n",
    "        y_actual.append(y_true.item())\n",
    "            \n",
    "        pred_perf=pp(y_predicted, y_actual)\n",
    "print('Epoch: {}/{} | Evaluation_Loss: {} | Pred. Power: {}'.format(epoch-epochs+1, num_epochs, eval_loss, pred_perf))        \n",
    "plt.plot(range(len(y_predicted)),y_predicted,color='red')\n",
    "plt.plot(range(len(y_actual)),y_actual,color='blue')\n",
    "#print(len(y_predicted),len(y_actual))\n",
    "plt.show()"
   ]
  }
 ],
 "metadata": {
  "kernelspec": {
   "display_name": "Python (3.6env)",
   "language": "python",
   "name": "python36"
  },
  "language_info": {
   "codemirror_mode": {
    "name": "ipython",
    "version": 3
   },
   "file_extension": ".py",
   "mimetype": "text/x-python",
   "name": "python",
   "nbconvert_exporter": "python",
   "pygments_lexer": "ipython3",
   "version": "3.6.8"
  }
 },
 "nbformat": 4,
 "nbformat_minor": 2
}
