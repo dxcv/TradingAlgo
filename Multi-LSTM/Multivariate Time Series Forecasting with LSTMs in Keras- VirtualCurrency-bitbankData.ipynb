{
 "cells": [
  {
   "cell_type": "markdown",
   "metadata": {},
   "source": [
    "refer to https://machinelearningmastery.com/multivariate-time-series-forecasting-lstms-keras/"
   ]
  },
  {
   "cell_type": "code",
   "execution_count": 1,
   "metadata": {},
   "outputs": [
    {
     "name": "stderr",
     "output_type": "stream",
     "text": [
      "Using TensorFlow backend.\n"
     ]
    },
    {
     "data": {
      "text/html": [
       "<div>\n",
       "<style scoped>\n",
       "    .dataframe tbody tr th:only-of-type {\n",
       "        vertical-align: middle;\n",
       "    }\n",
       "\n",
       "    .dataframe tbody tr th {\n",
       "        vertical-align: top;\n",
       "    }\n",
       "\n",
       "    .dataframe thead th {\n",
       "        text-align: right;\n",
       "    }\n",
       "</style>\n",
       "<table border=\"1\" class=\"dataframe\">\n",
       "  <thead>\n",
       "    <tr style=\"text-align: right;\">\n",
       "      <th></th>\n",
       "      <th>open_price</th>\n",
       "      <th>high_price</th>\n",
       "      <th>low_price</th>\n",
       "      <th>close_price</th>\n",
       "      <th>bid_volumn</th>\n",
       "      <th>ask_volumn</th>\n",
       "    </tr>\n",
       "    <tr>\n",
       "      <th>timestamp</th>\n",
       "      <th></th>\n",
       "      <th></th>\n",
       "      <th></th>\n",
       "      <th></th>\n",
       "      <th></th>\n",
       "      <th></th>\n",
       "    </tr>\n",
       "  </thead>\n",
       "  <tbody>\n",
       "    <tr>\n",
       "      <th>2019-03-01 00:00:03</th>\n",
       "      <td>423406</td>\n",
       "      <td>423810</td>\n",
       "      <td>423406</td>\n",
       "      <td>423598</td>\n",
       "      <td>944.401</td>\n",
       "      <td>1124.150</td>\n",
       "    </tr>\n",
       "    <tr>\n",
       "      <th>2019-03-01 01:00:03</th>\n",
       "      <td>423598</td>\n",
       "      <td>425102</td>\n",
       "      <td>423426</td>\n",
       "      <td>425000</td>\n",
       "      <td>667.806</td>\n",
       "      <td>707.779</td>\n",
       "    </tr>\n",
       "    <tr>\n",
       "      <th>2019-03-01 02:00:03</th>\n",
       "      <td>425000</td>\n",
       "      <td>425000</td>\n",
       "      <td>424366</td>\n",
       "      <td>424492</td>\n",
       "      <td>1555.230</td>\n",
       "      <td>1730.910</td>\n",
       "    </tr>\n",
       "    <tr>\n",
       "      <th>2019-03-01 03:00:03</th>\n",
       "      <td>424492</td>\n",
       "      <td>425750</td>\n",
       "      <td>424492</td>\n",
       "      <td>424952</td>\n",
       "      <td>746.150</td>\n",
       "      <td>713.470</td>\n",
       "    </tr>\n",
       "    <tr>\n",
       "      <th>2019-03-01 04:00:03</th>\n",
       "      <td>424952</td>\n",
       "      <td>424952</td>\n",
       "      <td>424232</td>\n",
       "      <td>424232</td>\n",
       "      <td>1184.600</td>\n",
       "      <td>2727.190</td>\n",
       "    </tr>\n",
       "  </tbody>\n",
       "</table>\n",
       "</div>"
      ],
      "text/plain": [
       "                     open_price  high_price  low_price  close_price  \\\n",
       "timestamp                                                             \n",
       "2019-03-01 00:00:03      423406      423810     423406       423598   \n",
       "2019-03-01 01:00:03      423598      425102     423426       425000   \n",
       "2019-03-01 02:00:03      425000      425000     424366       424492   \n",
       "2019-03-01 03:00:03      424492      425750     424492       424952   \n",
       "2019-03-01 04:00:03      424952      424952     424232       424232   \n",
       "\n",
       "                     bid_volumn  ask_volumn  \n",
       "timestamp                                    \n",
       "2019-03-01 00:00:03     944.401    1124.150  \n",
       "2019-03-01 01:00:03     667.806     707.779  \n",
       "2019-03-01 02:00:03    1555.230    1730.910  \n",
       "2019-03-01 03:00:03     746.150     713.470  \n",
       "2019-03-01 04:00:03    1184.600    2727.190  "
      ]
     },
     "execution_count": 1,
     "metadata": {},
     "output_type": "execute_result"
    }
   ],
   "source": [
    "from math import sqrt\n",
    "from numpy import concatenate\n",
    "from matplotlib import pyplot\n",
    "from pandas import read_csv\n",
    "from pandas import DataFrame\n",
    "from pandas import concat\n",
    "from sklearn.preprocessing import MinMaxScaler\n",
    "from sklearn.preprocessing import LabelEncoder\n",
    "from sklearn.metrics import mean_squared_error\n",
    "from keras.models import Sequential\n",
    "from keras.layers import Dense\n",
    "from keras.layers import LSTM\n",
    "\n",
    "import seaborn as sns\n",
    "import numpy as np\n",
    " \n",
    "# convert series to supervised learning\n",
    "def series_to_supervised(data, n_in=1, n_out=1, dropnan=True):\n",
    "\tn_vars = 1 if type(data) is list else data.shape[1]\n",
    "\tdf = DataFrame(data)\n",
    "\tcols, names = list(), list()\n",
    "\t# input sequence (t-n, ... t-1)\n",
    "\tfor i in range(n_in, 0, -1):\n",
    "\t\tcols.append(df.shift(i))\n",
    "\t\tnames += [('var%d(t-%d)' % (j+1, i)) for j in range(n_vars)]\n",
    "\t# forecast sequence (t, t+1, ... t+n)\n",
    "\tfor i in range(0, n_out):\n",
    "\t\tcols.append(df.shift(-i))\n",
    "\t\tif i == 0:\n",
    "\t\t\tnames += [('var%d(t)' % (j+1)) for j in range(n_vars)]\n",
    "\t\telse:\n",
    "\t\t\tnames += [('var%d(t+%d)' % (j+1, i)) for j in range(n_vars)]\n",
    "\t# put it all together\n",
    "\tagg = concat(cols, axis=1)\n",
    "\tagg.columns = names\n",
    "\t# drop rows with NaN values\n",
    "\tif dropnan:\n",
    "\t\tagg.dropna(inplace=True)\n",
    "\treturn agg\n",
    " \n",
    "# load dataset\n",
    "dataset = read_csv('update_20190301_bitbank_f.csv', header=0, index_col=0)\n",
    "values = dataset.values\n",
    "\n",
    "dataset.head()"
   ]
  },
  {
   "cell_type": "code",
   "execution_count": 2,
   "metadata": {},
   "outputs": [
    {
     "data": {
      "text/plain": [
       "<matplotlib.axes._subplots.AxesSubplot at 0x7f5550684630>"
      ]
     },
     "execution_count": 2,
     "metadata": {},
     "output_type": "execute_result"
    },
    {
     "data": {
      "image/png": "[encoded data removed]",
      "text/plain": [
       "<Figure size 432x288 with 2 Axes>"
      ]
     },
     "metadata": {
      "needs_background": "light"
     },
     "output_type": "display_data"
    }
   ],
   "source": [
    "sns.heatmap(dataset.corr(), annot=True, cmap='RdYlGn', linewidths=0.1, vmin=0)"
   ]
  },
  {
   "cell_type": "code",
   "execution_count": 3,
   "metadata": {},
   "outputs": [],
   "source": [
    "\n",
    "# ensure all data is float\n",
    "values = values.astype('float32')\n",
    "# normalize features\n",
    "scaler = MinMaxScaler(feature_range=(0, 1))\n",
    "scaled = scaler.fit_transform(values)\n",
    "# frame as supervised learning\n",
    "reframed = series_to_supervised(scaled, 1, 1)\n",
    "\n",
    "#test =  series_to_supervised(values, 1, 1)\n",
    "#print(test.head())\n",
    "#print(test.shape)\n"
   ]
  },
  {
   "cell_type": "code",
   "execution_count": 4,
   "metadata": {},
   "outputs": [
    {
     "name": "stdout",
     "output_type": "stream",
     "text": [
      "(1758, 6)\n",
      "(1757, 12)\n"
     ]
    }
   ],
   "source": [
    "print(values.shape)\n",
    "print(reframed.shape)\n",
    "#print(reframed.columes)"
   ]
  },
  {
   "cell_type": "code",
   "execution_count": 5,
   "metadata": {},
   "outputs": [
    {
     "name": "stdout",
     "output_type": "stream",
     "text": [
      "   var1(t-1)  var2(t-1)  var3(t-1)  var4(t-1)  var5(t-1)  var6(t-1)   var4(t)\n",
      "1   0.510866   0.503782   0.520185   0.511098   0.053977   0.172456  0.512790\n",
      "2   0.511098   0.505318   0.520210   0.512790   0.038169   0.108581  0.512177\n",
      "3   0.512790   0.505197   0.521365   0.512177   0.088890   0.265539  0.512732\n",
      "4   0.512177   0.506088   0.521520   0.512732   0.042646   0.109454  0.511863\n",
      "5   0.512732   0.505140   0.521200   0.511863   0.067706   0.418379  0.512208\n",
      "(1757, 7)\n",
      "1229\n",
      "(1229, 1, 6) (1229,) (528, 1, 6) (528,)\n"
     ]
    }
   ],
   "source": [
    "import math\n",
    "\n",
    "# drop columns we don't want to predict\n",
    "# 只留下 close 列\n",
    "reframed.drop(reframed.columns[[6, 7, 8, 10, 11]], axis=1, inplace=True)\n",
    "print(reframed.head())\n",
    " \n",
    "# split into train and test sets\n",
    "values = reframed.values\n",
    "print(values.shape)\n",
    "\n",
    "n_train_rate = 0.7\n",
    "n_train = values.shape[0] * n_train_rate\n",
    "n_train = math.floor(n_train)\n",
    "print(n_train)\n",
    "\n",
    "train = values[:n_train, :]\n",
    "test = values[n_train:, :]\n",
    "\n",
    "\n",
    "# split into input and outputs\n",
    "train_X, train_y = train[:, :-1], train[:, -1]\n",
    "test_X, test_y = test[:, :-1], test[:, -1]\n",
    "# reshape input to be 3D [samples, timesteps, features]\n",
    "train_X = train_X.reshape((train_X.shape[0], 1, train_X.shape[1]))\n",
    "test_X = test_X.reshape((test_X.shape[0], 1, test_X.shape[1]))\n",
    "print(train_X.shape, train_y.shape, test_X.shape, test_y.shape)\n"
   ]
  },
  {
   "cell_type": "code",
   "execution_count": 6,
   "metadata": {},
   "outputs": [
    {
     "name": "stdout",
     "output_type": "stream",
     "text": [
      "WARNING:tensorflow:From /home/AD/xiaosheng.xu/anaconda3/envs/python36/lib/python3.6/site-packages/tensorflow/python/framework/op_def_library.py:263: colocate_with (from tensorflow.python.framework.ops) is deprecated and will be removed in a future version.\n",
      "Instructions for updating:\n",
      "Colocations handled automatically by placer.\n",
      "WARNING:tensorflow:From /home/AD/xiaosheng.xu/anaconda3/envs/python36/lib/python3.6/site-packages/tensorflow/python/ops/math_ops.py:3066: to_int32 (from tensorflow.python.ops.math_ops) is deprecated and will be removed in a future version.\n",
      "Instructions for updating:\n",
      "Use tf.cast instead.\n",
      "Train on 1229 samples, validate on 528 samples\n",
      "Epoch 1/50\n",
      " - 1s - loss: 0.5470 - val_loss: 0.5896\n",
      "Epoch 2/50\n",
      " - 0s - loss: 0.3387 - val_loss: 0.3287\n",
      "Epoch 3/50\n",
      " - 0s - loss: 0.0937 - val_loss: 0.0201\n",
      "Epoch 4/50\n",
      " - 0s - loss: 0.0792 - val_loss: 0.0515\n",
      "Epoch 5/50\n",
      " - 0s - loss: 0.0500 - val_loss: 0.1071\n",
      "Epoch 6/50\n",
      " - 0s - loss: 0.0344 - val_loss: 0.0579\n",
      "Epoch 7/50\n",
      " - 0s - loss: 0.0435 - val_loss: 0.0741\n",
      "Epoch 8/50\n",
      " - 0s - loss: 0.0344 - val_loss: 0.0729\n",
      "Epoch 9/50\n",
      " - 0s - loss: 0.0307 - val_loss: 0.0621\n",
      "Epoch 10/50\n",
      " - 0s - loss: 0.0278 - val_loss: 0.0494\n",
      "Epoch 11/50\n",
      " - 0s - loss: 0.0277 - val_loss: 0.0430\n",
      "Epoch 12/50\n",
      " - 0s - loss: 0.0244 - val_loss: 0.0321\n",
      "Epoch 13/50\n",
      " - 0s - loss: 0.0238 - val_loss: 0.0255\n",
      "Epoch 14/50\n",
      " - 0s - loss: 0.0205 - val_loss: 0.0135\n",
      "Epoch 15/50\n",
      " - 0s - loss: 0.0206 - val_loss: 0.0101\n",
      "Epoch 16/50\n",
      " - 0s - loss: 0.0157 - val_loss: 0.0115\n",
      "Epoch 17/50\n",
      " - 0s - loss: 0.0146 - val_loss: 0.0150\n",
      "Epoch 18/50\n",
      " - 0s - loss: 0.0132 - val_loss: 0.0139\n",
      "Epoch 19/50\n",
      " - 0s - loss: 0.0112 - val_loss: 0.0098\n",
      "Epoch 20/50\n",
      " - 0s - loss: 0.0108 - val_loss: 0.0098\n",
      "Epoch 21/50\n",
      " - 0s - loss: 0.0119 - val_loss: 0.0131\n",
      "Epoch 22/50\n",
      " - 0s - loss: 0.0137 - val_loss: 0.0164\n",
      "Epoch 23/50\n",
      " - 0s - loss: 0.0219 - val_loss: 0.0082\n",
      "Epoch 24/50\n",
      " - 0s - loss: 0.0161 - val_loss: 0.0096\n",
      "Epoch 25/50\n",
      " - 0s - loss: 0.0134 - val_loss: 0.0138\n",
      "Epoch 26/50\n",
      " - 0s - loss: 0.0091 - val_loss: 0.0071\n",
      "Epoch 27/50\n",
      " - 0s - loss: 0.0072 - val_loss: 0.0091\n",
      "Epoch 28/50\n",
      " - 0s - loss: 0.0039 - val_loss: 0.0076\n",
      "Epoch 29/50\n",
      " - 0s - loss: 0.0062 - val_loss: 0.0089\n",
      "Epoch 30/50\n",
      " - 0s - loss: 0.0071 - val_loss: 0.0072\n",
      "Epoch 31/50\n",
      " - 0s - loss: 0.0116 - val_loss: 0.0161\n",
      "Epoch 32/50\n",
      " - 0s - loss: 0.0230 - val_loss: 0.0125\n",
      "Epoch 33/50\n",
      " - 0s - loss: 0.0184 - val_loss: 0.0081\n",
      "Epoch 34/50\n",
      " - 0s - loss: 0.0130 - val_loss: 0.0127\n",
      "Epoch 35/50\n",
      " - 0s - loss: 0.0112 - val_loss: 0.0148\n",
      "Epoch 36/50\n",
      " - 0s - loss: 0.0079 - val_loss: 0.0077\n",
      "Epoch 37/50\n",
      " - 0s - loss: 0.0050 - val_loss: 0.0064\n",
      "Epoch 38/50\n",
      " - 0s - loss: 0.0056 - val_loss: 0.0094\n",
      "Epoch 39/50\n",
      " - 0s - loss: 0.0061 - val_loss: 0.0096\n",
      "Epoch 40/50\n",
      " - 0s - loss: 0.0064 - val_loss: 0.0070\n",
      "Epoch 41/50\n",
      " - 0s - loss: 0.0095 - val_loss: 0.0144\n",
      "Epoch 42/50\n",
      " - 0s - loss: 0.0165 - val_loss: 0.0107\n",
      "Epoch 43/50\n",
      " - 0s - loss: 0.0227 - val_loss: 0.0159\n",
      "Epoch 44/50\n",
      " - 0s - loss: 0.0087 - val_loss: 0.0147\n",
      "Epoch 45/50\n",
      " - 0s - loss: 0.0113 - val_loss: 0.0143\n",
      "Epoch 46/50\n",
      " - 0s - loss: 0.0093 - val_loss: 0.0104\n",
      "Epoch 47/50\n",
      " - 0s - loss: 0.0078 - val_loss: 0.0076\n",
      "Epoch 48/50\n",
      " - 0s - loss: 0.0069 - val_loss: 0.0076\n",
      "Epoch 49/50\n",
      " - 0s - loss: 0.0091 - val_loss: 0.0140\n",
      "Epoch 50/50\n",
      " - 0s - loss: 0.0135 - val_loss: 0.0134\n"
     ]
    },
    {
     "data": {
      "image/png": "[encoded data removed]",
      "text/plain": [
       "<Figure size 432x288 with 1 Axes>"
      ]
     },
     "metadata": {
      "needs_background": "light"
     },
     "output_type": "display_data"
    }
   ],
   "source": [
    " \n",
    "# design network\n",
    "model = Sequential()\n",
    "model.add(LSTM(50, input_shape=(train_X.shape[1], train_X.shape[2])))\n",
    "model.add(Dense(1))\n",
    "model.compile(loss='mae', optimizer='adam')\n",
    "# fit network\n",
    "history = model.fit(train_X, train_y, epochs=50, batch_size=72, validation_data=(test_X, test_y), verbose=2, shuffle=False)\n",
    "# plot history\n",
    "pyplot.plot(history.history['loss'], label='train')\n",
    "pyplot.plot(history.history['val_loss'], label='test')\n",
    "pyplot.legend()\n",
    "pyplot.show()"
   ]
  },
  {
   "cell_type": "code",
   "execution_count": 7,
   "metadata": {},
   "outputs": [
    {
     "name": "stdout",
     "output_type": "stream",
     "text": [
      "yhat.shape (528, 1) [[0.73279685]\n",
      " [0.7307423 ]\n",
      " [0.7282253 ]\n",
      " [0.73145664]\n",
      " [0.7276911 ]]\n",
      "(528, 6) [[0.72062504 0.70995986 0.7317053  0.7191711  0.06822511 0.13928361]\n",
      " [0.71917474 0.708531   0.7322225  0.7191796  0.07361542 0.08982905]\n",
      " [0.7191796  0.71001214 0.73122615 0.7181757  0.03891451 0.07052667]\n",
      " [0.7181757  0.70754206 0.7285442  0.7175435  0.08720351 0.14378987]\n",
      " [0.7175435  0.70691913 0.7218804  0.7102124  0.04060328 0.2051018 ]]\n",
      "inv_yhat.shape (528, 6) [[6.0734200e+05 5.9725800e+05 5.9557300e+05 5.9604900e+05 1.1936801e+03\n",
      "  9.0791602e+02]\n",
      " [6.0563919e+05 5.9605600e+05 5.9599400e+05 5.9605600e+05 1.2879900e+03\n",
      "  5.8554797e+02]\n",
      " [6.0355312e+05 5.9730200e+05 5.9518300e+05 5.9522400e+05 6.8085602e+02\n",
      "  4.5972601e+02]\n",
      " [6.0623125e+05 5.9522400e+05 5.9300000e+05 5.9470000e+05 1.5257300e+03\n",
      "  9.3728998e+02]\n",
      " [6.0311038e+05 5.9470000e+05 5.8757600e+05 5.8862400e+05 7.1040302e+02\n",
      "  1.3369500e+03]]\n",
      "Test RMSE: 10626.626\n"
     ]
    }
   ],
   "source": [
    "# make a prediction\n",
    "yhat = model.predict(test_X)\n",
    "print('yhat.shape', yhat.shape, yhat[0:5, :])\n",
    "test_X_reshape = test_X.reshape((test_X.shape[0], test_X.shape[2]))\n",
    "print(test_X_reshape.shape, test_X_reshape[0:5, -7:])\n",
    "      \n",
    "# invert scaling for forecast\n",
    "inv_yhat = concatenate((yhat, test_X_reshape[:, 1:]), axis=1)\n",
    "inv_yhat = scaler.inverse_transform(inv_yhat)\n",
    "print('inv_yhat.shape', inv_yhat.shape, inv_yhat[0:5, :])\n",
    "\n",
    "inv_yhat = inv_yhat[:,0]\n",
    "# invert scaling for actual\n",
    "test_y = test_y.reshape((len(test_y), 1))\n",
    "inv_y = concatenate((test_y, test_X_reshape[:, 1:]), axis=1)\n",
    "inv_y = scaler.inverse_transform(inv_y)\n",
    "inv_y = inv_y[:,0]\n",
    "# calculate RMSE\n",
    "# 因为inv_y 预测是下一时刻的值，所以需要把 inv_yhat 往后 shift 一个时刻\n",
    "rmse = sqrt(mean_squared_error(inv_y[:-1], inv_yhat[1:]))\n",
    "print('Test RMSE: %.3f' % rmse)"
   ]
  },
  {
   "cell_type": "code",
   "execution_count": 8,
   "metadata": {},
   "outputs": [
    {
     "name": "stdout",
     "output_type": "stream",
     "text": [
      "(528, 1, 6)\n"
     ]
    },
    {
     "data": {
      "image/png": "[encoded data removed]",
      "text/plain": [
       "<Figure size 432x288 with 1 Axes>"
      ]
     },
     "metadata": {
      "needs_background": "light"
     },
     "output_type": "display_data"
    },
    {
     "name": "stdout",
     "output_type": "stream",
     "text": [
      "0.6875\n"
     ]
    }
   ],
   "source": [
    "print(test_X.shape)\n",
    "#print(range(test_X.shape))\n",
    "\n",
    "\n",
    "pyplot.plot( inv_y[-50:], label='predict')\n",
    "pyplot.plot( inv_yhat[-49:], label='actual')\n",
    "pyplot.legend()\n",
    "pyplot.show()\n",
    "\n",
    "#涨跌的判准率\n",
    "\n",
    "#获取预测跟实际对应元素值，是否大于0\n",
    "a = np.diff(inv_y[-50:-1]) > 0\n",
    "b = np.diff(inv_yhat[-49:]) > 0\n",
    "\n",
    "#比较相同值的个数\n",
    "print(sum(a ==b)/a.shape[0])"
   ]
  },
  {
   "cell_type": "markdown",
   "metadata": {},
   "source": [
    "## Multivariat with Multiple Lag Timesteps"
   ]
  },
  {
   "cell_type": "code",
   "execution_count": 22,
   "metadata": {},
   "outputs": [
    {
     "name": "stdout",
     "output_type": "stream",
     "text": [
      "(1758, 6)\n",
      "(1755, 24)\n"
     ]
    }
   ],
   "source": [
    "from math import sqrt\n",
    "from numpy import concatenate\n",
    "from matplotlib import pyplot\n",
    "from pandas import read_csv\n",
    "from pandas import DataFrame\n",
    "from pandas import concat\n",
    "from sklearn.preprocessing import MinMaxScaler\n",
    "from sklearn.preprocessing import LabelEncoder\n",
    "from sklearn.metrics import mean_squared_error\n",
    "from keras.models import Sequential\n",
    "from keras.layers import Dense\n",
    "from keras.layers import LSTM\n",
    "\n",
    "# convert series to supervised learning\n",
    "def series_to_supervised(data, n_in=1, n_out=1, dropnan=True):\n",
    "\tn_vars = 1 if type(data) is list else data.shape[1]\n",
    "\tdf = DataFrame(data)\n",
    "\tcols, names = list(), list()\n",
    "\t# input sequence (t-n, ... t-1)\n",
    "\tfor i in range(n_in, 0, -1):\n",
    "\t\tcols.append(df.shift(i))\n",
    "\t\tnames += [('var%d(t-%d)' % (j+1, i)) for j in range(n_vars)]\n",
    "\t# forecast sequence (t, t+1, ... t+n)\n",
    "\tfor i in range(0, n_out):\n",
    "\t\tcols.append(df.shift(-i))\n",
    "\t\tif i == 0:\n",
    "\t\t\tnames += [('var%d(t)' % (j+1)) for j in range(n_vars)]\n",
    "\t\telse:\n",
    "\t\t\tnames += [('var%d(t+%d)' % (j+1, i)) for j in range(n_vars)]\n",
    "\t# put it all together\n",
    "\tagg = concat(cols, axis=1)\n",
    "\tagg.columns = names\n",
    "\t# drop rows with NaN values\n",
    "\tif dropnan:\n",
    "\t\tagg.dropna(inplace=True)\n",
    "\treturn agg\n",
    "\n",
    "# load dataset\n",
    "dataset = read_csv('update_20190301_bitbank_f.csv', header=0, index_col=0)\n",
    "values = dataset.values\n",
    "\n",
    "# ensure all data is float\n",
    "values = values.astype('float32')\n",
    "# normalize features\n",
    "scaler = MinMaxScaler(feature_range=(0, 1))\n",
    "scaled = scaler.fit_transform(values)\n",
    "# specify the number of lag hours\n",
    "n_hours = 3\n",
    "# 等于 dataset.shape[1]\n",
    "# for alpha's bitbank, n_features = 6\n",
    "n_features = 5\n",
    "\n",
    "\n",
    "# frame as supervised learning\n",
    "reframed = series_to_supervised(scaled, n_hours, 1)\n",
    "\n",
    "print(dataset.shape)\n",
    "print(reframed.shape)\n"
   ]
  },
  {
   "cell_type": "code",
   "execution_count": 23,
   "metadata": {},
   "outputs": [
    {
     "name": "stdout",
     "output_type": "stream",
     "text": [
      "(1228, 15) 1228 (1228,)\n",
      "(1228, 3, 5) (1228,) (527, 3, 5) (527,)\n",
      "Train on 1228 samples, validate on 527 samples\n",
      "Epoch 1/50\n",
      " - 1s - loss: 0.4590 - val_loss: 0.3132\n",
      "Epoch 2/50\n",
      " - 0s - loss: 0.0520 - val_loss: 0.0375\n",
      "Epoch 3/50\n",
      " - 0s - loss: 0.0527 - val_loss: 0.0553\n",
      "Epoch 4/50\n",
      " - 0s - loss: 0.0588 - val_loss: 0.0721\n",
      "Epoch 5/50\n",
      " - 0s - loss: 0.0462 - val_loss: 0.0710\n",
      "Epoch 6/50\n",
      " - 0s - loss: 0.0432 - val_loss: 0.0595\n",
      "Epoch 7/50\n",
      " - 0s - loss: 0.0406 - val_loss: 0.0528\n",
      "Epoch 8/50\n",
      " - 0s - loss: 0.0371 - val_loss: 0.0401\n",
      "Epoch 9/50\n",
      " - 0s - loss: 0.0353 - val_loss: 0.0320\n",
      "Epoch 10/50\n",
      " - 0s - loss: 0.0320 - val_loss: 0.0198\n",
      "Epoch 11/50\n",
      " - 0s - loss: 0.0298 - val_loss: 0.0111\n",
      "Epoch 12/50\n",
      " - 0s - loss: 0.0277 - val_loss: 0.0153\n",
      "Epoch 13/50\n",
      " - 0s - loss: 0.0251 - val_loss: 0.0176\n",
      "Epoch 14/50\n",
      " - 0s - loss: 0.0097 - val_loss: 0.0148\n",
      "Epoch 15/50\n",
      " - 0s - loss: 0.0099 - val_loss: 0.0108\n",
      "Epoch 16/50\n",
      " - 0s - loss: 0.0080 - val_loss: 0.0119\n",
      "Epoch 17/50\n",
      " - 0s - loss: 0.0095 - val_loss: 0.0131\n",
      "Epoch 18/50\n",
      " - 0s - loss: 0.0068 - val_loss: 0.0110\n",
      "Epoch 19/50\n",
      " - 0s - loss: 0.0076 - val_loss: 0.0094\n",
      "Epoch 20/50\n",
      " - 0s - loss: 0.0070 - val_loss: 0.0100\n",
      "Epoch 21/50\n",
      " - 0s - loss: 0.0072 - val_loss: 0.0094\n",
      "Epoch 22/50\n",
      " - 0s - loss: 0.0062 - val_loss: 0.0157\n",
      "Epoch 23/50\n",
      " - 0s - loss: 0.0067 - val_loss: 0.0111\n",
      "Epoch 24/50\n",
      " - 0s - loss: 0.0064 - val_loss: 0.0139\n",
      "Epoch 25/50\n",
      " - 0s - loss: 0.0064 - val_loss: 0.0112\n",
      "Epoch 26/50\n",
      " - 0s - loss: 0.0060 - val_loss: 0.0128\n",
      "Epoch 27/50\n",
      " - 0s - loss: 0.0058 - val_loss: 0.0158\n",
      "Epoch 28/50\n",
      " - 0s - loss: 0.0062 - val_loss: 0.0125\n",
      "Epoch 29/50\n",
      " - 0s - loss: 0.0057 - val_loss: 0.0119\n",
      "Epoch 30/50\n",
      " - 0s - loss: 0.0058 - val_loss: 0.0134\n",
      "Epoch 31/50\n",
      " - 0s - loss: 0.0057 - val_loss: 0.0112\n",
      "Epoch 32/50\n",
      " - 0s - loss: 0.0056 - val_loss: 0.0103\n",
      "Epoch 33/50\n",
      " - 0s - loss: 0.0072 - val_loss: 0.0105\n",
      "Epoch 34/50\n",
      " - 0s - loss: 0.0094 - val_loss: 0.0170\n",
      "Epoch 35/50\n",
      " - 0s - loss: 0.0073 - val_loss: 0.0160\n",
      "Epoch 36/50\n",
      " - 0s - loss: 0.0081 - val_loss: 0.0173\n",
      "Epoch 37/50\n",
      " - 0s - loss: 0.0078 - val_loss: 0.0118\n",
      "Epoch 38/50\n",
      " - 0s - loss: 0.0122 - val_loss: 0.0119\n",
      "Epoch 39/50\n",
      " - 0s - loss: 0.0154 - val_loss: 0.0187\n",
      "Epoch 40/50\n",
      " - 0s - loss: 0.0203 - val_loss: 0.0206\n",
      "Epoch 41/50\n",
      " - 0s - loss: 0.0341 - val_loss: 0.0164\n",
      "Epoch 42/50\n",
      " - 0s - loss: 0.0321 - val_loss: 0.0199\n",
      "Epoch 43/50\n",
      " - 0s - loss: 0.0190 - val_loss: 0.0229\n",
      "Epoch 44/50\n",
      " - 0s - loss: 0.0255 - val_loss: 0.0148\n",
      "Epoch 45/50\n",
      " - 0s - loss: 0.0139 - val_loss: 0.0128\n",
      "Epoch 46/50\n",
      " - 0s - loss: 0.0058 - val_loss: 0.0095\n",
      "Epoch 47/50\n",
      " - 0s - loss: 0.0049 - val_loss: 0.0133\n",
      "Epoch 48/50\n",
      " - 0s - loss: 0.0056 - val_loss: 0.0108\n",
      "Epoch 49/50\n",
      " - 0s - loss: 0.0056 - val_loss: 0.0099\n",
      "Epoch 50/50\n",
      " - 0s - loss: 0.0051 - val_loss: 0.0120\n"
     ]
    },
    {
     "data": {
      "image/png": "[encoded data removed]",
      "text/plain": [
       "<Figure size 432x288 with 1 Axes>"
      ]
     },
     "metadata": {
      "needs_background": "light"
     },
     "output_type": "display_data"
    },
    {
     "name": "stdout",
     "output_type": "stream",
     "text": [
      "Test RMSE: 41687.780\n"
     ]
    }
   ],
   "source": [
    "\n",
    "# split into train and test sets\n",
    "values = reframed.values\n",
    "n_train_rate = 0.7\n",
    "n_train = values.shape[0] * n_train_rate\n",
    "n_train = math.floor(n_train)\n",
    "train = values[:n_train, :]\n",
    "test = values[n_train:, :]\n",
    "\n",
    "# split into input and outputs\n",
    "n_obs = n_hours * n_features\n",
    "train_X, train_y = train[:, :n_obs], train[:, -n_features]\n",
    "test_X, test_y = test[:, :n_obs], test[:, -n_features]\n",
    "print(train_X.shape, len(train_X), train_y.shape)\n",
    "# reshape input to be 3D [samples, timesteps, features]\n",
    "train_X = train_X.reshape((train_X.shape[0], n_hours, n_features))\n",
    "test_X = test_X.reshape((test_X.shape[0], n_hours, n_features))\n",
    "print(train_X.shape, train_y.shape, test_X.shape, test_y.shape)\n",
    "\n",
    "# design network\n",
    "model = Sequential()\n",
    "model.add(LSTM(50, input_shape=(train_X.shape[1], train_X.shape[2])))\n",
    "model.add(Dense(1))\n",
    "model.compile(loss='mae', optimizer='adam')\n",
    "# fit network\n",
    "history = model.fit(train_X, train_y, epochs=50, batch_size=72, validation_data=(test_X, test_y), verbose=2, shuffle=False)\n",
    "# plot history\n",
    "pyplot.plot(history.history['loss'], label='train')\n",
    "pyplot.plot(history.history['val_loss'], label='test')\n",
    "pyplot.legend()\n",
    "pyplot.show()\n",
    "\n",
    "# make a prediction\n",
    "yhat = model.predict(test_X)\n",
    "test_X = test_X.reshape((test_X.shape[0], n_hours*n_features))\n",
    "# invert scaling for forecast\n",
    "# 7 -> test_X.shape[1] - 1\n",
    "inv_yhat = concatenate((yhat, test_X[:, -5:]), axis=1)\n",
    "inv_yhat = scaler.inverse_transform(inv_yhat)\n",
    "inv_yhat = inv_yhat[:,0]\n",
    "\n",
    "# invert scaling for actual\n",
    "test_y = test_y.reshape((len(test_y), 1))\n",
    "inv_y = concatenate((test_y, test_X[:, -5:]), axis=1)\n",
    "inv_y = scaler.inverse_transform(inv_y)\n",
    "inv_y = inv_y[:,0]\n",
    "# calculate RMSE\n",
    "rmse = sqrt(mean_squared_error(inv_y, inv_yhat))\n",
    "print('Test RMSE: %.3f' % rmse)"
   ]
  },
  {
   "cell_type": "code",
   "execution_count": 24,
   "metadata": {},
   "outputs": [
    {
     "name": "stdout",
     "output_type": "stream",
     "text": [
      "Test RMSE: 29154.725\n"
     ]
    }
   ],
   "source": [
    "# calculate RMSE\n",
    "rmse = sqrt(mean_squared_error(inv_y[:-1], inv_yhat[1:]))\n",
    "print('Test RMSE: %.3f' % rmse)"
   ]
  },
  {
   "cell_type": "code",
   "execution_count": 25,
   "metadata": {},
   "outputs": [
    {
     "name": "stdout",
     "output_type": "stream",
     "text": [
      "(527, 15)\n"
     ]
    },
    {
     "data": {
      "image/png": "[encoded data removed]",
      "text/plain": [
       "<Figure size 432x288 with 1 Axes>"
      ]
     },
     "metadata": {
      "needs_background": "light"
     },
     "output_type": "display_data"
    }
   ],
   "source": [
    "print(test_X.shape)\n",
    "#print(range(test_X.shape))\n",
    "\n",
    "\n",
    "pyplot.plot( inv_y[-50:], label='predict')\n",
    "pyplot.plot( inv_yhat[-49:], label='actual')\n",
    "pyplot.legend()\n",
    "pyplot.show()"
   ]
  },
  {
   "cell_type": "code",
   "execution_count": 26,
   "metadata": {},
   "outputs": [
    {
     "data": {
      "text/plain": [
       "array([  8695.8125,   9270.8125,   4286.0625,   3395.8125,  -4597.625 ,\n",
       "        -1211.375 ,   3169.    ,    348.3125,   -915.75  ,  -1007.    ,\n",
       "         2057.    ,   5548.9375,   7021.9375,   1791.    ,    411.    ,\n",
       "         -705.    ,    508.625 ,   8920.0625,  14301.75  ,   7478.5625,\n",
       "        -3008.9375,  -4167.1875,   2369.25  ,   -841.0625,   2884.9375,\n",
       "         7261.1875,  11429.5   ,   5230.1875,   2711.25  ,  -5411.5   ,\n",
       "        -9789.3125, -10209.5625,  -4365.3125,  -4087.625 ,  -9677.8125,\n",
       "       -11037.5625,  -4970.625 ,   3248.5625,   5630.1875,   7837.4375,\n",
       "         4387.25  ,   3551.125 ,  -7204.875 ,  -8571.6875,    104.875 ,\n",
       "         2628.5625,   2383.625 ,   1454.6875], dtype=float32)"
      ]
     },
     "execution_count": 26,
     "metadata": {},
     "output_type": "execute_result"
    }
   ],
   "source": [
    "import numpy as np\n",
    "np.diff(inv_y[-50:-1])\n",
    "np.diff(inv_yhat[-49:])"
   ]
  },
  {
   "cell_type": "code",
   "execution_count": 27,
   "metadata": {},
   "outputs": [
    {
     "name": "stdout",
     "output_type": "stream",
     "text": [
      "0.6041666666666666\n"
     ]
    }
   ],
   "source": [
    "#涨跌的判准率\n",
    "\n",
    "#获取预测跟实际对应元素值，是否大于0\n",
    "a = np.diff(inv_y[-50:-1]) > 0\n",
    "b = np.diff(inv_yhat[-49:]) > 0\n",
    "\n",
    "#比较相同值的个数\n",
    "print(sum(a ==b)/a.shape[0])"
   ]
  }
 ],
 "metadata": {
  "kernelspec": {
   "display_name": "Python (3.6env)",
   "language": "python",
   "name": "python36"
  },
  "language_info": {
   "codemirror_mode": {
    "name": "ipython",
    "version": 3
   },
   "file_extension": ".py",
   "mimetype": "text/x-python",
   "name": "python",
   "nbconvert_exporter": "python",
   "pygments_lexer": "ipython3",
   "version": "3.6.8"
  }
 },
 "nbformat": 4,
 "nbformat_minor": 2
}
