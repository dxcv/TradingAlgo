{
 "cells": [
  {
   "cell_type": "markdown",
   "metadata": {},
   "source": [
    "data collection, refer to\n",
    "- LSTMs in Keras- VirtualCurrency- Simple.ipynb\n",
    "\n",
    "for source code,refer to \n",
    "- https://machinelearningmastery.com/multivariate-time-series-forecasting-lstms-keras/"
   ]
  },
  {
   "cell_type": "code",
   "execution_count": 1,
   "metadata": {},
   "outputs": [
    {
     "name": "stderr",
     "output_type": "stream",
     "text": [
      "Using TensorFlow backend.\n"
     ]
    },
    {
     "data": {
      "text/html": [
       "<div>\n",
       "<style scoped>\n",
       "    .dataframe tbody tr th:only-of-type {\n",
       "        vertical-align: middle;\n",
       "    }\n",
       "\n",
       "    .dataframe tbody tr th {\n",
       "        vertical-align: top;\n",
       "    }\n",
       "\n",
       "    .dataframe thead th {\n",
       "        text-align: right;\n",
       "    }\n",
       "</style>\n",
       "<table border=\"1\" class=\"dataframe\">\n",
       "  <thead>\n",
       "    <tr style=\"text-align: right;\">\n",
       "      <th></th>\n",
       "      <th>Close</th>\n",
       "      <th>High</th>\n",
       "      <th>Low</th>\n",
       "      <th>Open</th>\n",
       "      <th>Volume</th>\n",
       "    </tr>\n",
       "    <tr>\n",
       "      <th>Timestamp</th>\n",
       "      <th></th>\n",
       "      <th></th>\n",
       "      <th></th>\n",
       "      <th></th>\n",
       "      <th></th>\n",
       "    </tr>\n",
       "  </thead>\n",
       "  <tbody>\n",
       "    <tr>\n",
       "      <th>1546300800</th>\n",
       "      <td>3697.730000</td>\n",
       "      <td>3700.0000</td>\n",
       "      <td>3691.000002</td>\n",
       "      <td>3696.202300</td>\n",
       "      <td>7095.559257</td>\n",
       "    </tr>\n",
       "    <tr>\n",
       "      <th>1546301700</th>\n",
       "      <td>3695.179141</td>\n",
       "      <td>3697.9878</td>\n",
       "      <td>3687.024301</td>\n",
       "      <td>3694.186356</td>\n",
       "      <td>2142.803493</td>\n",
       "    </tr>\n",
       "    <tr>\n",
       "      <th>1546302600</th>\n",
       "      <td>3703.000000</td>\n",
       "      <td>3707.7001</td>\n",
       "      <td>3697.897800</td>\n",
       "      <td>3697.957800</td>\n",
       "      <td>15972.302727</td>\n",
       "    </tr>\n",
       "    <tr>\n",
       "      <th>1546303500</th>\n",
       "      <td>3703.000000</td>\n",
       "      <td>3711.4200</td>\n",
       "      <td>3703.000000</td>\n",
       "      <td>3703.000044</td>\n",
       "      <td>5796.233350</td>\n",
       "    </tr>\n",
       "    <tr>\n",
       "      <th>1546304400</th>\n",
       "      <td>3691.603671</td>\n",
       "      <td>3709.9000</td>\n",
       "      <td>3691.603671</td>\n",
       "      <td>3697.977800</td>\n",
       "      <td>1297.983519</td>\n",
       "    </tr>\n",
       "  </tbody>\n",
       "</table>\n",
       "</div>"
      ],
      "text/plain": [
       "                  Close       High          Low         Open        Volume\n",
       "Timestamp                                                                 \n",
       "1546300800  3697.730000  3700.0000  3691.000002  3696.202300   7095.559257\n",
       "1546301700  3695.179141  3697.9878  3687.024301  3694.186356   2142.803493\n",
       "1546302600  3703.000000  3707.7001  3697.897800  3697.957800  15972.302727\n",
       "1546303500  3703.000000  3711.4200  3703.000000  3703.000044   5796.233350\n",
       "1546304400  3691.603671  3709.9000  3691.603671  3697.977800   1297.983519"
      ]
     },
     "execution_count": 1,
     "metadata": {},
     "output_type": "execute_result"
    }
   ],
   "source": [
    "from math import sqrt\n",
    "from numpy import concatenate\n",
    "from matplotlib import pyplot\n",
    "from pandas import read_csv\n",
    "from pandas import DataFrame\n",
    "from pandas import concat\n",
    "from sklearn.preprocessing import MinMaxScaler\n",
    "from sklearn.preprocessing import LabelEncoder\n",
    "from sklearn.metrics import mean_squared_error\n",
    "from keras.models import Sequential\n",
    "from keras.layers import Dense\n",
    "from keras.layers import LSTM\n",
    "\n",
    "import seaborn as sns\n",
    "import numpy as np\n",
    " \n",
    "# convert series to supervised learning\n",
    "def series_to_supervised(data, n_in=1, n_out=1, dropnan=True):\n",
    "\tn_vars = 1 if type(data) is list else data.shape[1]\n",
    "\tdf = DataFrame(data)\n",
    "\tcols, names = list(), list()\n",
    "\t# input sequence (t-n, ... t-1)\n",
    "\tfor i in range(n_in, 0, -1):\n",
    "\t\tcols.append(df.shift(i))\n",
    "\t\tnames += [('var%d(t-%d)' % (j+1, i)) for j in range(n_vars)]\n",
    "\t# forecast sequence (t, t+1, ... t+n)\n",
    "\tfor i in range(0, n_out):\n",
    "\t\tcols.append(df.shift(-i))\n",
    "\t\tif i == 0:\n",
    "\t\t\tnames += [('var%d(t)' % (j+1)) for j in range(n_vars)]\n",
    "\t\telse:\n",
    "\t\t\tnames += [('var%d(t+%d)' % (j+1, i)) for j in range(n_vars)]\n",
    "\t# put it all together\n",
    "\tagg = concat(cols, axis=1)\n",
    "\tagg.columns = names\n",
    "\t# drop rows with NaN values\n",
    "\tif dropnan:\n",
    "\t\tagg.dropna(inplace=True)\n",
    "\treturn agg\n",
    " \n",
    "# load dataset\n",
    "# alpha dataset, for bitbank\n",
    "#dataset = read_csv('update_20190301_bitbank_f.csv', header=0, index_col=0)\n",
    "# dataset from poloniex.com\n",
    "dataset = read_csv('bitcoin201901to201905.csv', header=0, index_col=0)\n",
    "values = dataset.values\n",
    "\n",
    "dataset.head()"
   ]
  },
  {
   "cell_type": "code",
   "execution_count": 2,
   "metadata": {},
   "outputs": [
    {
     "data": {
      "text/plain": [
       "<matplotlib.axes._subplots.AxesSubplot at 0x7f882ee8ac88>"
      ]
     },
     "execution_count": 2,
     "metadata": {},
     "output_type": "execute_result"
    },
    {
     "data": {
      "image/png": "[encoded data removed]",
      "text/plain": [
       "<Figure size 432x288 with 2 Axes>"
      ]
     },
     "metadata": {
      "needs_background": "light"
     },
     "output_type": "display_data"
    }
   ],
   "source": [
    "sns.heatmap(dataset.corr(), annot=True, cmap='RdYlGn', linewidths=0.1, vmin=0)"
   ]
  },
  {
   "cell_type": "code",
   "execution_count": 3,
   "metadata": {},
   "outputs": [
    {
     "name": "stdout",
     "output_type": "stream",
     "text": [
      "before scale\n",
      "     var1(t-1)    var2(t-1)    var3(t-1)    var4(t-1)     var5(t-1)  \\\n",
      "1  3697.729980  3700.000000  3691.000000  3696.202393   7095.559082   \n",
      "2  3695.179199  3697.987793  3687.024414  3694.186279   2142.803467   \n",
      "3  3703.000000  3707.700195  3697.897705  3697.957764  15972.302734   \n",
      "4  3703.000000  3711.419922  3703.000000  3703.000000   5796.233398   \n",
      "5  3691.603760  3709.899902  3691.603760  3697.977783   1297.983521   \n",
      "\n",
      "       var1(t)      var2(t)      var3(t)      var4(t)       var5(t)  \n",
      "1  3695.179199  3697.987793  3687.024414  3694.186279   2142.803467  \n",
      "2  3703.000000  3707.700195  3697.897705  3697.957764  15972.302734  \n",
      "3  3703.000000  3711.419922  3703.000000  3703.000000   5796.233398  \n",
      "4  3691.603760  3709.899902  3691.603760  3697.977783   1297.983521  \n",
      "5  3701.000000  3701.000000  3694.721191  3694.721191   1487.381592  \n",
      "(13462, 10)\n"
     ]
    }
   ],
   "source": [
    "\n",
    "# ensure all data is float\n",
    "values = values.astype('float32')\n",
    "print('before scale')\n",
    "test1 =  series_to_supervised(values, 1, 1)\n",
    "print(test1.head())\n",
    "print(test1.shape)\n",
    "\n",
    "# normalize features\n",
    "scaler = MinMaxScaler(feature_range=(0, 1))\n",
    "scaled = scaler.fit_transform(values)\n",
    "# frame as supervised learning\n",
    "reframed = series_to_supervised(scaled, 1, 1)\n"
   ]
  },
  {
   "cell_type": "code",
   "execution_count": 4,
   "metadata": {},
   "outputs": [
    {
     "name": "stdout",
     "output_type": "stream",
     "text": [
      "(13463, 5)\n",
      "(13462, 10)\n"
     ]
    },
    {
     "data": {
      "text/html": [
       "<div>\n",
       "<style scoped>\n",
       "    .dataframe tbody tr th:only-of-type {\n",
       "        vertical-align: middle;\n",
       "    }\n",
       "\n",
       "    .dataframe tbody tr th {\n",
       "        vertical-align: top;\n",
       "    }\n",
       "\n",
       "    .dataframe thead th {\n",
       "        text-align: right;\n",
       "    }\n",
       "</style>\n",
       "<table border=\"1\" class=\"dataframe\">\n",
       "  <thead>\n",
       "    <tr style=\"text-align: right;\">\n",
       "      <th></th>\n",
       "      <th>var1(t-1)</th>\n",
       "      <th>var2(t-1)</th>\n",
       "      <th>var3(t-1)</th>\n",
       "      <th>var4(t-1)</th>\n",
       "      <th>var5(t-1)</th>\n",
       "      <th>var1(t)</th>\n",
       "      <th>var2(t)</th>\n",
       "      <th>var3(t)</th>\n",
       "      <th>var4(t)</th>\n",
       "      <th>var5(t)</th>\n",
       "    </tr>\n",
       "  </thead>\n",
       "  <tbody>\n",
       "    <tr>\n",
       "      <th>1</th>\n",
       "      <td>0.068520</td>\n",
       "      <td>0.065730</td>\n",
       "      <td>0.068572</td>\n",
       "      <td>0.066926</td>\n",
       "      <td>0.003056</td>\n",
       "      <td>0.068006</td>\n",
       "      <td>0.065325</td>\n",
       "      <td>0.067764</td>\n",
       "      <td>0.066518</td>\n",
       "      <td>0.000923</td>\n",
       "    </tr>\n",
       "    <tr>\n",
       "      <th>2</th>\n",
       "      <td>0.068006</td>\n",
       "      <td>0.065325</td>\n",
       "      <td>0.067764</td>\n",
       "      <td>0.066518</td>\n",
       "      <td>0.000923</td>\n",
       "      <td>0.069584</td>\n",
       "      <td>0.067280</td>\n",
       "      <td>0.069974</td>\n",
       "      <td>0.067282</td>\n",
       "      <td>0.006880</td>\n",
       "    </tr>\n",
       "    <tr>\n",
       "      <th>3</th>\n",
       "      <td>0.069584</td>\n",
       "      <td>0.067280</td>\n",
       "      <td>0.069974</td>\n",
       "      <td>0.067282</td>\n",
       "      <td>0.006880</td>\n",
       "      <td>0.069584</td>\n",
       "      <td>0.068029</td>\n",
       "      <td>0.071012</td>\n",
       "      <td>0.068302</td>\n",
       "      <td>0.002497</td>\n",
       "    </tr>\n",
       "    <tr>\n",
       "      <th>4</th>\n",
       "      <td>0.069584</td>\n",
       "      <td>0.068029</td>\n",
       "      <td>0.071012</td>\n",
       "      <td>0.068302</td>\n",
       "      <td>0.002497</td>\n",
       "      <td>0.067284</td>\n",
       "      <td>0.067723</td>\n",
       "      <td>0.068695</td>\n",
       "      <td>0.067286</td>\n",
       "      <td>0.000559</td>\n",
       "    </tr>\n",
       "    <tr>\n",
       "      <th>5</th>\n",
       "      <td>0.067284</td>\n",
       "      <td>0.067723</td>\n",
       "      <td>0.068695</td>\n",
       "      <td>0.067286</td>\n",
       "      <td>0.000559</td>\n",
       "      <td>0.069181</td>\n",
       "      <td>0.065932</td>\n",
       "      <td>0.069328</td>\n",
       "      <td>0.066627</td>\n",
       "      <td>0.000641</td>\n",
       "    </tr>\n",
       "  </tbody>\n",
       "</table>\n",
       "</div>"
      ],
      "text/plain": [
       "   var1(t-1)  var2(t-1)  var3(t-1)  var4(t-1)  var5(t-1)   var1(t)   var2(t)  \\\n",
       "1   0.068520   0.065730   0.068572   0.066926   0.003056  0.068006  0.065325   \n",
       "2   0.068006   0.065325   0.067764   0.066518   0.000923  0.069584  0.067280   \n",
       "3   0.069584   0.067280   0.069974   0.067282   0.006880  0.069584  0.068029   \n",
       "4   0.069584   0.068029   0.071012   0.068302   0.002497  0.067284  0.067723   \n",
       "5   0.067284   0.067723   0.068695   0.067286   0.000559  0.069181  0.065932   \n",
       "\n",
       "    var3(t)   var4(t)   var5(t)  \n",
       "1  0.067764  0.066518  0.000923  \n",
       "2  0.069974  0.067282  0.006880  \n",
       "3  0.071012  0.068302  0.002497  \n",
       "4  0.068695  0.067286  0.000559  \n",
       "5  0.069328  0.066627  0.000641  "
      ]
     },
     "execution_count": 4,
     "metadata": {},
     "output_type": "execute_result"
    }
   ],
   "source": [
    "print(values.shape)\n",
    "print(reframed.shape)\n",
    "reframed.head()"
   ]
  },
  {
   "cell_type": "code",
   "execution_count": 5,
   "metadata": {},
   "outputs": [
    {
     "name": "stdout",
     "output_type": "stream",
     "text": [
      "   var1(t-1)  var2(t-1)  var3(t-1)  var4(t-1)  var5(t-1)   var1(t)\n",
      "1   0.068520   0.065730   0.068572   0.066926   0.003056  0.068006\n",
      "2   0.068006   0.065325   0.067764   0.066518   0.000923  0.069584\n",
      "3   0.069584   0.067280   0.069974   0.067282   0.006880  0.069584\n",
      "4   0.069584   0.068029   0.071012   0.068302   0.002497  0.067284\n",
      "5   0.067284   0.067723   0.068695   0.067286   0.000559  0.069181\n",
      "(13462, 6)\n",
      "10769\n",
      "(10769, 1, 5) (10769,) (2693, 1, 5) (2693,)\n"
     ]
    }
   ],
   "source": [
    "import math\n",
    "\n",
    "# drop columns we don't want to predict\n",
    "# 只留下 close 列\n",
    "# for alpha's bitbank\n",
    "#reframed.drop(reframed.columns[[6, 7, 8, 10, 11]], axis=1, inplace=True)\n",
    "# for dataset from poloniex.com\n",
    "reframed.drop(reframed.columns[[6, 7, 8, 9]], axis=1, inplace=True)\n",
    "print(reframed.head())\n",
    " \n",
    "# split into train and test sets\n",
    "values = reframed.values\n",
    "print(values.shape)\n",
    "\n",
    "n_train_rate = 0.8\n",
    "n_train = values.shape[0] * n_train_rate\n",
    "n_train = math.floor(n_train)\n",
    "print(n_train)\n",
    "\n",
    "train = values[:n_train, :]\n",
    "test = values[n_train:, :]\n",
    "\n",
    "\n",
    "# split into input and outputs\n",
    "train_X, train_y = train[:, :-1], train[:, -1]\n",
    "test_X, test_y = test[:, :-1], test[:, -1]\n",
    "# reshape input to be 3D [samples, timesteps, features]\n",
    "train_X = train_X.reshape((train_X.shape[0], 1, train_X.shape[1]))\n",
    "test_X = test_X.reshape((test_X.shape[0], 1, test_X.shape[1]))\n",
    "print(train_X.shape, train_y.shape, test_X.shape, test_y.shape)\n"
   ]
  },
  {
   "cell_type": "code",
   "execution_count": 6,
   "metadata": {},
   "outputs": [
    {
     "name": "stdout",
     "output_type": "stream",
     "text": [
      "WARNING:tensorflow:From /home/AD/xiaosheng.xu/anaconda3/envs/python36/lib/python3.6/site-packages/tensorflow/python/framework/op_def_library.py:263: colocate_with (from tensorflow.python.framework.ops) is deprecated and will be removed in a future version.\n",
      "Instructions for updating:\n",
      "Colocations handled automatically by placer.\n",
      "WARNING:tensorflow:From /home/AD/xiaosheng.xu/anaconda3/envs/python36/lib/python3.6/site-packages/tensorflow/python/ops/math_ops.py:3066: to_int32 (from tensorflow.python.ops.math_ops) is deprecated and will be removed in a future version.\n",
      "Instructions for updating:\n",
      "Use tf.cast instead.\n",
      "Train on 10769 samples, validate on 2693 samples\n",
      "Epoch 1/50\n",
      " - 1s - loss: 0.0173 - val_loss: 0.0329\n",
      "Epoch 2/50\n",
      " - 0s - loss: 0.0091 - val_loss: 0.0088\n",
      "Epoch 3/50\n",
      " - 0s - loss: 0.0048 - val_loss: 0.0064\n",
      "Epoch 4/50\n",
      " - 0s - loss: 0.0029 - val_loss: 0.0099\n",
      "Epoch 5/50\n",
      " - 0s - loss: 0.0018 - val_loss: 0.0107\n",
      "Epoch 6/50\n",
      " - 0s - loss: 0.0022 - val_loss: 0.0136\n",
      "Epoch 7/50\n",
      " - 0s - loss: 0.0019 - val_loss: 0.0125\n",
      "Epoch 8/50\n",
      " - 0s - loss: 0.0015 - val_loss: 0.0129\n",
      "Epoch 9/50\n",
      " - 0s - loss: 0.0015 - val_loss: 0.0142\n",
      "Epoch 10/50\n",
      " - 0s - loss: 0.0015 - val_loss: 0.0132\n",
      "Epoch 11/50\n",
      " - 0s - loss: 0.0015 - val_loss: 0.0128\n",
      "Epoch 12/50\n",
      " - 1s - loss: 0.0015 - val_loss: 0.0133\n",
      "Epoch 13/50\n",
      " - 1s - loss: 0.0014 - val_loss: 0.0103\n",
      "Epoch 14/50\n",
      " - 1s - loss: 0.0014 - val_loss: 0.0126\n",
      "Epoch 15/50\n",
      " - 0s - loss: 0.0015 - val_loss: 0.0111\n",
      "Epoch 16/50\n",
      " - 0s - loss: 0.0014 - val_loss: 0.0130\n",
      "Epoch 17/50\n",
      " - 1s - loss: 0.0014 - val_loss: 0.0120\n",
      "Epoch 18/50\n",
      " - 1s - loss: 0.0015 - val_loss: 0.0135\n",
      "Epoch 19/50\n",
      " - 0s - loss: 0.0014 - val_loss: 0.0145\n",
      "Epoch 20/50\n",
      " - 0s - loss: 0.0014 - val_loss: 0.0117\n",
      "Epoch 21/50\n",
      " - 0s - loss: 0.0014 - val_loss: 0.0133\n",
      "Epoch 22/50\n",
      " - 1s - loss: 0.0014 - val_loss: 0.0121\n",
      "Epoch 23/50\n",
      " - 0s - loss: 0.0015 - val_loss: 0.0091\n",
      "Epoch 24/50\n",
      " - 0s - loss: 0.0015 - val_loss: 0.0096\n",
      "Epoch 25/50\n",
      " - 1s - loss: 0.0014 - val_loss: 0.0126\n",
      "Epoch 26/50\n",
      " - 0s - loss: 0.0014 - val_loss: 0.0105\n",
      "Epoch 27/50\n",
      " - 1s - loss: 0.0014 - val_loss: 0.0126\n",
      "Epoch 28/50\n",
      " - 0s - loss: 0.0014 - val_loss: 0.0138\n",
      "Epoch 29/50\n",
      " - 0s - loss: 0.0014 - val_loss: 0.0102\n",
      "Epoch 30/50\n",
      " - 0s - loss: 0.0014 - val_loss: 0.0119\n",
      "Epoch 31/50\n",
      " - 1s - loss: 0.0014 - val_loss: 0.0109\n",
      "Epoch 32/50\n",
      " - 0s - loss: 0.0015 - val_loss: 0.0121\n",
      "Epoch 33/50\n",
      " - 0s - loss: 0.0014 - val_loss: 0.0118\n",
      "Epoch 34/50\n",
      " - 1s - loss: 0.0014 - val_loss: 0.0088\n",
      "Epoch 35/50\n",
      " - 0s - loss: 0.0014 - val_loss: 0.0120\n",
      "Epoch 36/50\n",
      " - 0s - loss: 0.0015 - val_loss: 0.0095\n",
      "Epoch 37/50\n",
      " - 0s - loss: 0.0014 - val_loss: 0.0129\n",
      "Epoch 38/50\n",
      " - 0s - loss: 0.0014 - val_loss: 0.0108\n",
      "Epoch 39/50\n",
      " - 0s - loss: 0.0015 - val_loss: 0.0091\n",
      "Epoch 40/50\n",
      " - 0s - loss: 0.0014 - val_loss: 0.0110\n",
      "Epoch 41/50\n",
      " - 0s - loss: 0.0014 - val_loss: 0.0116\n",
      "Epoch 42/50\n",
      " - 0s - loss: 0.0014 - val_loss: 0.0118\n",
      "Epoch 43/50\n",
      " - 0s - loss: 0.0014 - val_loss: 0.0107\n",
      "Epoch 44/50\n",
      " - 0s - loss: 0.0014 - val_loss: 0.0110\n",
      "Epoch 45/50\n",
      " - 0s - loss: 0.0014 - val_loss: 0.0088\n",
      "Epoch 46/50\n",
      " - 0s - loss: 0.0014 - val_loss: 0.0115\n",
      "Epoch 47/50\n",
      " - 0s - loss: 0.0014 - val_loss: 0.0105\n",
      "Epoch 48/50\n",
      " - 0s - loss: 0.0014 - val_loss: 0.0136\n",
      "Epoch 49/50\n",
      " - 0s - loss: 0.0014 - val_loss: 0.0130\n",
      "Epoch 50/50\n",
      " - 0s - loss: 0.0014 - val_loss: 0.0134\n"
     ]
    }
   ],
   "source": [
    " \n",
    "# design network\n",
    "model = Sequential()\n",
    "model.add(LSTM(50, input_shape=(train_X.shape[1], train_X.shape[2])))\n",
    "model.add(Dense(1))\n",
    "model.compile(loss='mae', optimizer='adam')\n",
    "# fit network\n",
    "history = model.fit(train_X, train_y, epochs=50, batch_size=40, validation_data=(test_X, test_y), verbose=2, shuffle=False)\n",
    "\n",
    "\n"
   ]
  },
  {
   "cell_type": "code",
   "execution_count": 7,
   "metadata": {},
   "outputs": [
    {
     "data": {
      "image/png": "[encoded data removed]",
      "text/plain": [
       "<Figure size 432x288 with 1 Axes>"
      ]
     },
     "metadata": {
      "needs_background": "light"
     },
     "output_type": "display_data"
    }
   ],
   "source": [
    "\n",
    "# plot history\n",
    "pyplot.plot(history.history['loss'], label='train')\n",
    "pyplot.plot(history.history['val_loss'], label='test')\n",
    "pyplot.legend()\n",
    "pyplot.show()"
   ]
  },
  {
   "cell_type": "code",
   "execution_count": 8,
   "metadata": {},
   "outputs": [
    {
     "name": "stdout",
     "output_type": "stream",
     "text": [
      "yhat.shape (2693, 1) [[0.43868348]\n",
      " [0.4377203 ]\n",
      " [0.4324814 ]\n",
      " [0.4357367 ]\n",
      " [0.4352485 ]]\n",
      "(2693, 5) [[0.44066823 0.4474808  0.4238711  0.42339545 0.17277373]\n",
      " [0.42769456 0.43598175 0.43116885 0.43991238 0.04730476]\n",
      " [0.4295733  0.4265225  0.42790288 0.4273166  0.03948412]\n",
      " [0.4308716  0.4309572  0.43269986 0.42913908 0.04305708]\n",
      " [0.43064332 0.4277854  0.4325679  0.43063444 0.01553152]]\n",
      "inv_yhat.shape (2693, 5) [[  5531.1226   5597.01     5438.4907   5457.6196 401117.62  ]\n",
      " [  5526.3516   5539.868    5474.3833   5539.2344 109824.41  ]\n",
      " [  5500.404    5492.863    5458.3203   5476.995   91667.73  ]\n",
      " [  5516.527    5514.9      5481.9136   5486.0005  99962.85  ]\n",
      " [  5514.109    5499.138    5481.2646   5493.389   36058.53  ]]\n",
      "Test RMSE: 84.970\n"
     ]
    }
   ],
   "source": [
    "# make a prediction\n",
    "yhat = model.predict(test_X)\n",
    "print('yhat.shape', yhat.shape, yhat[0:5, :])\n",
    "test_X_reshape = test_X.reshape((test_X.shape[0], test_X.shape[2]))\n",
    "print(test_X_reshape.shape, test_X_reshape[0:5, -7:])\n",
    "      \n",
    "# invert scaling for forecast\n",
    "inv_yhat = concatenate((yhat, test_X_reshape[:, 1:]), axis=1)\n",
    "inv_yhat = scaler.inverse_transform(inv_yhat)\n",
    "print('inv_yhat.shape', inv_yhat.shape, inv_yhat[0:5, :])\n",
    "\n",
    "inv_yhat = inv_yhat[:,0]\n",
    "# invert scaling for actual\n",
    "test_y = test_y.reshape((len(test_y), 1))\n",
    "inv_y = concatenate((test_y, test_X_reshape[:, 1:]), axis=1)\n",
    "inv_y = scaler.inverse_transform(inv_y)\n",
    "inv_y = inv_y[:,0]\n",
    "# calculate RMSE\n",
    "# 因为inv_y 预测是下一时刻的值，所以需要把 inv_yhat 往后 shift 一个时刻\n",
    "rmse = sqrt(mean_squared_error(inv_y[:-1], inv_yhat[1:]))\n",
    "print('Test RMSE: %.3f' % rmse)"
   ]
  },
  {
   "cell_type": "code",
   "execution_count": 9,
   "metadata": {},
   "outputs": [
    {
     "name": "stdout",
     "output_type": "stream",
     "text": [
      "(2693, 1, 5)\n"
     ]
    },
    {
     "data": {
      "image/png": "[encoded data removed]",
      "text/plain": [
       "<Figure size 432x288 with 1 Axes>"
      ]
     },
     "metadata": {
      "needs_background": "light"
     },
     "output_type": "display_data"
    },
    {
     "name": "stdout",
     "output_type": "stream",
     "text": [
      "0.8125\n"
     ]
    }
   ],
   "source": [
    "print(test_X.shape)\n",
    "#print(range(test_X.shape))\n",
    "\n",
    "\n",
    "pyplot.plot( inv_y[-50:], label='predict')\n",
    "pyplot.plot( inv_yhat[-49:], label='actual')\n",
    "pyplot.legend()\n",
    "pyplot.show()\n",
    "\n",
    "#涨跌的判准率\n",
    "\n",
    "#获取预测跟实际对应元素值，是否大于0\n",
    "a = np.diff(inv_y[-50:-1]) > 0\n",
    "b = np.diff(inv_yhat[-49:]) > 0\n",
    "\n",
    "#比较相同值的个数\n",
    "print(sum(a == b), '/', a.shape[0], '=', sum(a == b)/a.shape[0])print(sum(a ==b)/a.shape[0])"
   ]
  },
  {
   "cell_type": "markdown",
   "metadata": {},
   "source": [
    "## Multivariat with Multiple Lag Timesteps"
   ]
  },
  {
   "cell_type": "code",
   "execution_count": 10,
   "metadata": {},
   "outputs": [
    {
     "name": "stdout",
     "output_type": "stream",
     "text": [
      "(13463, 5)\n",
      "(13458, 30)\n"
     ]
    }
   ],
   "source": [
    "from math import sqrt\n",
    "from numpy import concatenate\n",
    "from matplotlib import pyplot\n",
    "from pandas import read_csv\n",
    "from pandas import DataFrame\n",
    "from pandas import concat\n",
    "from sklearn.preprocessing import MinMaxScaler\n",
    "from sklearn.preprocessing import LabelEncoder\n",
    "from sklearn.metrics import mean_squared_error\n",
    "from keras.models import Sequential\n",
    "from keras.layers import Dense\n",
    "from keras.layers import LSTM\n",
    "\n",
    "# convert series to supervised learning\n",
    "def series_to_supervised(data, n_in=1, n_out=1, dropnan=True):\n",
    "\tn_vars = 1 if type(data) is list else data.shape[1]\n",
    "\tdf = DataFrame(data)\n",
    "\tcols, names = list(), list()\n",
    "\t# input sequence (t-n, ... t-1)\n",
    "\tfor i in range(n_in, 0, -1):\n",
    "\t\tcols.append(df.shift(i))\n",
    "\t\tnames += [('var%d(t-%d)' % (j+1, i)) for j in range(n_vars)]\n",
    "\t# forecast sequence (t, t+1, ... t+n)\n",
    "\tfor i in range(0, n_out):\n",
    "\t\tcols.append(df.shift(-i))\n",
    "\t\tif i == 0:\n",
    "\t\t\tnames += [('var%d(t)' % (j+1)) for j in range(n_vars)]\n",
    "\t\telse:\n",
    "\t\t\tnames += [('var%d(t+%d)' % (j+1, i)) for j in range(n_vars)]\n",
    "\t# put it all together\n",
    "\tagg = concat(cols, axis=1)\n",
    "\tagg.columns = names\n",
    "\t# drop rows with NaN values\n",
    "\tif dropnan:\n",
    "\t\tagg.dropna(inplace=True)\n",
    "\treturn agg\n",
    "\n",
    "# load dataset\n",
    "dataset = read_csv('bitcoin201901to201905.csv', header=0, index_col=0)\n",
    "values = dataset.values\n",
    "\n",
    "# ensure all data is float\n",
    "values = values.astype('float32')\n",
    "# normalize features\n",
    "scaler = MinMaxScaler(feature_range=(0, 1))\n",
    "scaled = scaler.fit_transform(values)\n",
    "# specify the number of lag hours\n",
    "n_hours = 5\n",
    "# 等于 dataset.shape[1]\n",
    "n_features = 5\n",
    "\n",
    "\n",
    "# frame as supervised learning\n",
    "reframed = series_to_supervised(scaled, n_hours, 1)\n",
    "\n",
    "print(dataset.shape)\n",
    "print(reframed.shape)\n"
   ]
  },
  {
   "cell_type": "code",
   "execution_count": 11,
   "metadata": {},
   "outputs": [
    {
     "data": {
      "image/png": "[encoded data removed]",
      "text/plain": [
       "<Figure size 432x288 with 1 Axes>"
      ]
     },
     "metadata": {
      "needs_background": "light"
     },
     "output_type": "display_data"
    }
   ],
   "source": [
    "pyplot.plot(dataset['Close'].values, label='price')\n",
    "pyplot.legend()\n",
    "pyplot.show()"
   ]
  },
  {
   "cell_type": "code",
   "execution_count": 12,
   "metadata": {
    "scrolled": true
   },
   "outputs": [
    {
     "name": "stdout",
     "output_type": "stream",
     "text": [
      "(10766, 25) 10766 (10766,)\n",
      "(10766, 5, 5) (10766,) (2692, 5, 5) (2692,)\n"
     ]
    }
   ],
   "source": [
    "\n",
    "# split into train and test sets\n",
    "values = reframed.values\n",
    "n_train_rate = 0.8\n",
    "n_train = values.shape[0] * n_train_rate\n",
    "n_train = math.floor(n_train)\n",
    "train = values[:n_train, :]\n",
    "test = values[n_train:, :]\n",
    "\n",
    "# split into input and outputs\n",
    "n_obs = n_hours * n_features\n",
    "train_X, train_y = train[:, :n_obs], train[:, -n_features]\n",
    "test_X, test_y = test[:, :n_obs], test[:, -n_features]\n",
    "print(train_X.shape, len(train_X), train_y.shape)\n",
    "# reshape input to be 3D [samples, timesteps, features]\n",
    "train_X = train_X.reshape((train_X.shape[0], n_hours, n_features))\n",
    "test_X = test_X.reshape((test_X.shape[0], n_hours, n_features))\n",
    "print(train_X.shape, train_y.shape, test_X.shape, test_y.shape)\n"
   ]
  },
  {
   "cell_type": "code",
   "execution_count": 13,
   "metadata": {},
   "outputs": [
    {
     "name": "stdout",
     "output_type": "stream",
     "text": [
      "Train on 10766 samples, validate on 2692 samples\n",
      "Epoch 1/50\n",
      " - 1s - loss: 0.0086 - val_loss: 0.0409\n",
      "Epoch 2/50\n",
      " - 1s - loss: 0.0040 - val_loss: 0.0241\n",
      "Epoch 3/50\n",
      " - 1s - loss: 0.0025 - val_loss: 0.0193\n",
      "Epoch 4/50\n",
      " - 1s - loss: 0.0021 - val_loss: 0.0170\n",
      "Epoch 5/50\n",
      " - 1s - loss: 0.0021 - val_loss: 0.0151\n",
      "Epoch 6/50\n",
      " - 1s - loss: 0.0020 - val_loss: 0.0131\n",
      "Epoch 7/50\n",
      " - 1s - loss: 0.0020 - val_loss: 0.0124\n",
      "Epoch 8/50\n",
      " - 1s - loss: 0.0022 - val_loss: 0.0113\n",
      "Epoch 9/50\n",
      " - 1s - loss: 0.0021 - val_loss: 0.0109\n",
      "Epoch 10/50\n",
      " - 1s - loss: 0.0021 - val_loss: 0.0107\n",
      "Epoch 11/50\n",
      " - 1s - loss: 0.0025 - val_loss: 0.0142\n",
      "Epoch 12/50\n",
      " - 1s - loss: 0.0028 - val_loss: 0.0124\n",
      "Epoch 13/50\n",
      " - 1s - loss: 0.0029 - val_loss: 0.0118\n",
      "Epoch 14/50\n",
      " - 1s - loss: 0.0026 - val_loss: 0.0098\n",
      "Epoch 15/50\n",
      " - 1s - loss: 0.0022 - val_loss: 0.0111\n",
      "Epoch 16/50\n",
      " - 1s - loss: 0.0021 - val_loss: 0.0091\n",
      "Epoch 17/50\n",
      " - 1s - loss: 0.0021 - val_loss: 0.0072\n",
      "Epoch 18/50\n",
      " - 1s - loss: 0.0018 - val_loss: 0.0074\n",
      "Epoch 19/50\n",
      " - 1s - loss: 0.0023 - val_loss: 0.0085\n",
      "Epoch 20/50\n",
      " - 1s - loss: 0.0026 - val_loss: 0.0079\n",
      "Epoch 21/50\n",
      " - 1s - loss: 0.0022 - val_loss: 0.0061\n",
      "Epoch 22/50\n",
      " - 1s - loss: 0.0018 - val_loss: 0.0055\n",
      "Epoch 23/50\n",
      " - 1s - loss: 0.0019 - val_loss: 0.0060\n",
      "Epoch 24/50\n",
      " - 1s - loss: 0.0022 - val_loss: 0.0056\n",
      "Epoch 25/50\n",
      " - 1s - loss: 0.0025 - val_loss: 0.0064\n",
      "Epoch 26/50\n",
      " - 1s - loss: 0.0023 - val_loss: 0.0071\n",
      "Epoch 27/50\n",
      " - 1s - loss: 0.0021 - val_loss: 0.0057\n",
      "Epoch 28/50\n",
      " - 1s - loss: 0.0021 - val_loss: 0.0052\n",
      "Epoch 29/50\n",
      " - 1s - loss: 0.0020 - val_loss: 0.0054\n",
      "Epoch 30/50\n",
      " - 1s - loss: 0.0022 - val_loss: 0.0062\n",
      "Epoch 31/50\n",
      " - 1s - loss: 0.0021 - val_loss: 0.0047\n",
      "Epoch 32/50\n",
      " - 1s - loss: 0.0020 - val_loss: 0.0057\n",
      "Epoch 33/50\n",
      " - 1s - loss: 0.0021 - val_loss: 0.0066\n",
      "Epoch 34/50\n",
      " - 1s - loss: 0.0019 - val_loss: 0.0061\n",
      "Epoch 35/50\n",
      " - 1s - loss: 0.0018 - val_loss: 0.0062\n",
      "Epoch 36/50\n",
      " - 1s - loss: 0.0018 - val_loss: 0.0042\n",
      "Epoch 37/50\n",
      " - 1s - loss: 0.0015 - val_loss: 0.0051\n",
      "Epoch 38/50\n",
      " - 1s - loss: 0.0016 - val_loss: 0.0058\n",
      "Epoch 39/50\n",
      " - 1s - loss: 0.0016 - val_loss: 0.0084\n",
      "Epoch 40/50\n",
      " - 1s - loss: 0.0017 - val_loss: 0.0044\n",
      "Epoch 41/50\n",
      " - 1s - loss: 0.0019 - val_loss: 0.0054\n",
      "Epoch 42/50\n",
      " - 1s - loss: 0.0018 - val_loss: 0.0043\n",
      "Epoch 43/50\n",
      " - 1s - loss: 0.0018 - val_loss: 0.0040\n",
      "Epoch 44/50\n",
      " - 1s - loss: 0.0023 - val_loss: 0.0063\n",
      "Epoch 45/50\n",
      " - 1s - loss: 0.0018 - val_loss: 0.0085\n",
      "Epoch 46/50\n",
      " - 1s - loss: 0.0014 - val_loss: 0.0102\n",
      "Epoch 47/50\n",
      " - 1s - loss: 0.0013 - val_loss: 0.0127\n",
      "Epoch 48/50\n",
      " - 1s - loss: 0.0013 - val_loss: 0.0089\n",
      "Epoch 49/50\n",
      " - 1s - loss: 0.0013 - val_loss: 0.0109\n",
      "Epoch 50/50\n",
      " - 1s - loss: 0.0013 - val_loss: 0.0117\n"
     ]
    }
   ],
   "source": [
    "\n",
    "# design network\n",
    "model = Sequential()\n",
    "model.add(LSTM(50, input_shape=(train_X.shape[1], train_X.shape[2])))\n",
    "model.add(Dense(1))\n",
    "model.compile(loss='mae', optimizer='adam')\n",
    "# fit network\n",
    "history = model.fit(train_X, train_y, epochs=50, batch_size=40, validation_data=(test_X, test_y), verbose=2, shuffle=False)\n",
    "\n"
   ]
  },
  {
   "cell_type": "code",
   "execution_count": 14,
   "metadata": {},
   "outputs": [
    {
     "data": {
      "image/png": "[encoded data removed]",
      "text/plain": [
       "<Figure size 432x288 with 1 Axes>"
      ]
     },
     "metadata": {
      "needs_background": "light"
     },
     "output_type": "display_data"
    }
   ],
   "source": [
    "# plot history\n",
    "pyplot.plot(history.history['loss'], label='train')\n",
    "pyplot.plot(history.history['val_loss'], label='test')\n",
    "pyplot.legend()\n",
    "pyplot.show()"
   ]
  },
  {
   "cell_type": "code",
   "execution_count": 15,
   "metadata": {},
   "outputs": [
    {
     "name": "stdout",
     "output_type": "stream",
     "text": [
      "Test RMSE: 78.219\n"
     ]
    }
   ],
   "source": [
    "# make a prediction\n",
    "yhat = model.predict(test_X)\n",
    "test_X = test_X.reshape((test_X.shape[0], n_hours*n_features))\n",
    "# invert scaling for forecast\n",
    "# inverse_transform must have matrix with the same dimensions when fit_transform() is first called\n",
    "# 7 -> scaler.data_range_.shape[0] - 1 ?\n",
    "# for bitbank dataset\n",
    "#inv_yhat = concatenate((yhat, test_X[:, -5:]), axis=1)\n",
    "# for poloniex dataset\n",
    "inv_yhat = concatenate((yhat, test_X[:, -4:]), axis=1)\n",
    "\n",
    "inv_yhat = scaler.inverse_transform(inv_yhat)\n",
    "inv_yhat = inv_yhat[:,0]\n",
    "# invert scaling for actual\n",
    "test_y = test_y.reshape((len(test_y), 1))\n",
    "# for bitbank dataset\n",
    "#inv_y = concatenate((test_y, test_X[:, -5:]), axis=1)\n",
    "inv_y = concatenate((test_y, test_X[:, -4:]), axis=1)\n",
    "inv_y = scaler.inverse_transform(inv_y)\n",
    "inv_y = inv_y[:,0]\n",
    "# calculate RMSE\n",
    "rmse = sqrt(mean_squared_error(inv_y, inv_yhat))\n",
    "print('Test RMSE: %.3f' % rmse)"
   ]
  },
  {
   "cell_type": "code",
   "execution_count": 16,
   "metadata": {},
   "outputs": [
    {
     "name": "stdout",
     "output_type": "stream",
     "text": [
      "Test RMSE: 72.856\n"
     ]
    }
   ],
   "source": [
    "# calculate RMSE\n",
    "rmse = sqrt(mean_squared_error(inv_y[:-1], inv_yhat[1:]))\n",
    "print('Test RMSE: %.3f' % rmse)"
   ]
  },
  {
   "cell_type": "code",
   "execution_count": 17,
   "metadata": {},
   "outputs": [
    {
     "name": "stdout",
     "output_type": "stream",
     "text": [
      "(2692, 25)\n"
     ]
    },
    {
     "data": {
      "image/png": "[encoded data removed]",
      "text/plain": [
       "<Figure size 432x288 with 1 Axes>"
      ]
     },
     "metadata": {
      "needs_background": "light"
     },
     "output_type": "display_data"
    }
   ],
   "source": [
    "print(test_X.shape)\n",
    "#print(range(test_X.shape))\n",
    "\n",
    "\n",
    "pyplot.plot( inv_y[-50:], label='predict')\n",
    "pyplot.plot( inv_yhat[-49:], label='actual')\n",
    "pyplot.legend()\n",
    "pyplot.show()"
   ]
  },
  {
   "cell_type": "code",
   "execution_count": 18,
   "metadata": {},
   "outputs": [
    {
     "data": {
      "text/plain": [
       "array([-15.302246 , -17.36621  , -18.644531 ,  23.26123  , -48.26758  ,\n",
       "        -9.116211 ,  37.896484 ,  22.169922 ,  33.808105 , -12.313965 ,\n",
       "        12.619629 , -15.391602 ,  48.72412  ,  91.66846  ,  35.921875 ,\n",
       "        44.59375  , -15.821289 ,  -4.5405273,  49.461426 , -57.82666  ,\n",
       "       -54.76416  , -42.88379  ,  26.351074 ,  11.901367 , -23.081055 ,\n",
       "        20.754395 ,  51.115234 , -38.364746 , -42.620117 ,  16.944824 ,\n",
       "         8.134277 ,  19.015625 , -56.611816 ,  13.408691 , -64.495605 ,\n",
       "        25.689941 ,   5.4331055,   6.0825195,  36.632812 , -24.024414 ,\n",
       "        34.248535 , -26.198242 , -17.700684 ,  -3.2836914,  13.808105 ,\n",
       "       -41.23291  , -18.36621  ,  38.259277 ], dtype=float32)"
      ]
     },
     "execution_count": 18,
     "metadata": {},
     "output_type": "execute_result"
    }
   ],
   "source": [
    "import numpy as np\n",
    "np.diff(inv_y[-50:-1])\n",
    "np.diff(inv_yhat[-49:])"
   ]
  },
  {
   "cell_type": "code",
   "execution_count": 19,
   "metadata": {},
   "outputs": [
    {
     "name": "stdout",
     "output_type": "stream",
     "text": [
      "0.9375\n"
     ]
    }
   ],
   "source": [
    "#涨跌的判准率\n",
    "\n",
    "#获取预测跟实际对应元素值，是否大于0\n",
    "a = np.diff(inv_y[-50:-1]) > 0\n",
    "b = np.diff(inv_yhat[-49:]) > 0\n",
    "\n",
    "#比较相同值的个数\n",
    "print(sum(a ==b)/a.shape[0])"
   ]
  },
  {
   "cell_type": "code",
   "execution_count": 20,
   "metadata": {},
   "outputs": [
    {
     "name": "stdout",
     "output_type": "stream",
     "text": [
      "0.46191007060572276\n"
     ]
    }
   ],
   "source": [
    "a = np.diff(inv_y) > 0\n",
    "b = np.diff(inv_yhat) > 0\n",
    "\n",
    "#比较相同值的个数\n",
    "print(sum(a == b), '/', a.shape[0], '=', sum(a == b)/a.shape[0])"
   ]
  },
  {
   "cell_type": "code",
   "execution_count": null,
   "metadata": {},
   "outputs": [],
   "source": []
  }
 ],
 "metadata": {
  "kernelspec": {
   "display_name": "Python (3.6env)",
   "language": "python",
   "name": "python36"
  },
  "language_info": {
   "codemirror_mode": {
    "name": "ipython",
    "version": 3
   },
   "file_extension": ".py",
   "mimetype": "text/x-python",
   "name": "python",
   "nbconvert_exporter": "python",
   "pygments_lexer": "ipython3",
   "version": "3.6.8"
  }
 },
 "nbformat": 4,
 "nbformat_minor": 2
}
