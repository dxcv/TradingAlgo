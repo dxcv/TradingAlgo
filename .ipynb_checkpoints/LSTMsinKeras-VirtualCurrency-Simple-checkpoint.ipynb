{
 "cells": [
  {
   "cell_type": "markdown",
   "metadata": {},
   "source": [
    "refer to https://machinelearningmastery.com/multivariate-time-series-forecasting-lstms-keras/\n",
    "\n",
    "to tune parameters\n",
    "refer to http://yangguang2009.github.io/2017/01/08/deeplearning/grid-search-hyperparameters-for-deep-learning/"
   ]
  },
  {
   "cell_type": "code",
   "execution_count": 1,
   "metadata": {},
   "outputs": [
    {
     "data": {
      "text/plain": [
       "\"\\n# connect to poloniex's API\\nurl = 'https://poloniex.com/public?command=returnChartData&currencyPair=USDT_BTC&start=1546300800&end=9999999999&period=300&resolution=auto'\\n\\n# parse json returned from the API to Pandas DF\\nopenUrl = urllib.request.urlopen(url)\\nr = openUrl.read()\\nopenUrl.close()\\nd = json.loads(r.decode())\\ndf = pd.DataFrame(d)\\n\\noriginal_columns=[u'date', u'close',  u'high', u'low', u'open', u'volume']\\nnew_columns = ['Timestamp','Close','High','Low','Open','Volume']\\ndf = df.loc[:,original_columns]\\ndf.columns = new_columns\\ndf.to_csv('bitcoin201901to201905.csv',index=None)\\n\\ndf = df.set_index('Timestamp')\\ndf.head()\\n\""
      ]
     },
     "execution_count": 1,
     "metadata": {},
     "output_type": "execute_result"
    }
   ],
   "source": [
    "from __future__ import print_function\n",
    "\n",
    "\n",
    "import json\n",
    "import numpy as np\n",
    "import os\n",
    "import pandas as pd\n",
    "import urllib\n",
    "import math\n",
    "\n",
    "from pandas import read_csv\n",
    "from pandas import DataFrame\n",
    "from pandas import concat\n",
    "\n",
    "'''\n",
    "# connect to poloniex's API\n",
    "url = 'https://poloniex.com/public?command=returnChartData&currencyPair=USDT_BTC&start=1546300800&end=9999999999&period=300&resolution=auto'\n",
    "\n",
    "# parse json returned from the API to Pandas DF\n",
    "openUrl = urllib.request.urlopen(url)\n",
    "r = openUrl.read()\n",
    "openUrl.close()\n",
    "d = json.loads(r.decode())\n",
    "df = pd.DataFrame(d)\n",
    "\n",
    "original_columns=[u'date', u'close',  u'high', u'low', u'open', u'volume']\n",
    "new_columns = ['Timestamp','Close','High','Low','Open','Volume']\n",
    "df = df.loc[:,original_columns]\n",
    "df.columns = new_columns\n",
    "df.to_csv('bitcoin201901to201905.csv',index=None)\n",
    "\n",
    "df = df.set_index('Timestamp')\n",
    "df.head()\n",
    "'''"
   ]
  },
  {
   "cell_type": "code",
   "execution_count": 2,
   "metadata": {},
   "outputs": [
    {
     "data": {
      "text/html": [
       "<div>\n",
       "<style scoped>\n",
       "    .dataframe tbody tr th:only-of-type {\n",
       "        vertical-align: middle;\n",
       "    }\n",
       "\n",
       "    .dataframe tbody tr th {\n",
       "        vertical-align: top;\n",
       "    }\n",
       "\n",
       "    .dataframe thead th {\n",
       "        text-align: right;\n",
       "    }\n",
       "</style>\n",
       "<table border=\"1\" class=\"dataframe\">\n",
       "  <thead>\n",
       "    <tr style=\"text-align: right;\">\n",
       "      <th></th>\n",
       "      <th>Close</th>\n",
       "      <th>High</th>\n",
       "      <th>Low</th>\n",
       "      <th>Open</th>\n",
       "      <th>Volume</th>\n",
       "    </tr>\n",
       "    <tr>\n",
       "      <th>Timestamp</th>\n",
       "      <th></th>\n",
       "      <th></th>\n",
       "      <th></th>\n",
       "      <th></th>\n",
       "      <th></th>\n",
       "    </tr>\n",
       "  </thead>\n",
       "  <tbody>\n",
       "    <tr>\n",
       "      <th>1546300800</th>\n",
       "      <td>3697.730000</td>\n",
       "      <td>3700.0000</td>\n",
       "      <td>3691.000002</td>\n",
       "      <td>3696.202300</td>\n",
       "      <td>7095.559257</td>\n",
       "    </tr>\n",
       "    <tr>\n",
       "      <th>1546301700</th>\n",
       "      <td>3695.179141</td>\n",
       "      <td>3697.9878</td>\n",
       "      <td>3687.024301</td>\n",
       "      <td>3694.186356</td>\n",
       "      <td>2142.803493</td>\n",
       "    </tr>\n",
       "    <tr>\n",
       "      <th>1546302600</th>\n",
       "      <td>3703.000000</td>\n",
       "      <td>3707.7001</td>\n",
       "      <td>3697.897800</td>\n",
       "      <td>3697.957800</td>\n",
       "      <td>15972.302727</td>\n",
       "    </tr>\n",
       "    <tr>\n",
       "      <th>1546303500</th>\n",
       "      <td>3703.000000</td>\n",
       "      <td>3711.4200</td>\n",
       "      <td>3703.000000</td>\n",
       "      <td>3703.000044</td>\n",
       "      <td>5796.233350</td>\n",
       "    </tr>\n",
       "    <tr>\n",
       "      <th>1546304400</th>\n",
       "      <td>3691.603671</td>\n",
       "      <td>3709.9000</td>\n",
       "      <td>3691.603671</td>\n",
       "      <td>3697.977800</td>\n",
       "      <td>1297.983519</td>\n",
       "    </tr>\n",
       "  </tbody>\n",
       "</table>\n",
       "</div>"
      ],
      "text/plain": [
       "                  Close       High          Low         Open        Volume\n",
       "Timestamp                                                                 \n",
       "1546300800  3697.730000  3700.0000  3691.000002  3696.202300   7095.559257\n",
       "1546301700  3695.179141  3697.9878  3687.024301  3694.186356   2142.803493\n",
       "1546302600  3703.000000  3707.7001  3697.897800  3697.957800  15972.302727\n",
       "1546303500  3703.000000  3711.4200  3703.000000  3703.000044   5796.233350\n",
       "1546304400  3691.603671  3709.9000  3691.603671  3697.977800   1297.983519"
      ]
     },
     "execution_count": 2,
     "metadata": {},
     "output_type": "execute_result"
    }
   ],
   "source": [
    "# dataset from poloniex.com\n",
    "df = read_csv('bitcoin201901to201905.csv', header=0, index_col=0)\n",
    "values = df.values\n",
    "\n",
    "df.head()"
   ]
  },
  {
   "cell_type": "code",
   "execution_count": 3,
   "metadata": {},
   "outputs": [
    {
     "name": "stderr",
     "output_type": "stream",
     "text": [
      "Using TensorFlow backend.\n"
     ]
    }
   ],
   "source": [
    "from math import sqrt\n",
    "from numpy import concatenate\n",
    "from matplotlib import pyplot\n",
    "from pandas import read_csv\n",
    "from pandas import DataFrame\n",
    "from pandas import concat\n",
    "from sklearn.preprocessing import MinMaxScaler\n",
    "from sklearn.preprocessing import LabelEncoder\n",
    "from sklearn.metrics import mean_squared_error\n",
    "from keras.models import Sequential\n",
    "from keras.layers import Dense\n",
    "from keras.layers import LSTM\n",
    "\n",
    "import seaborn as sns\n",
    "import numpy as np\n",
    " \n",
    "from sklearn.model_selection import GridSearchCV\n",
    "from keras.wrappers.scikit_learn import KerasClassifier\n",
    "\n",
    "from hyperopt import Trials, STATUS_OK, tpe\n",
    "from hyperas import optim\n",
    "from hyperas.distributions import choice, uniform\n",
    "\n",
    "# convert series to supervised learning\n",
    "def series_to_supervised(data, n_in=1, n_out=1, dropnan=True):\n",
    "\tn_vars = 1 if type(data) is list else data.shape[1]\n",
    "\tdf = DataFrame(data)\n",
    "\tcols, names = list(), list()\n",
    "\t# input sequence (t-n, ... t-1)\n",
    "\tfor i in range(n_in, 0, -1):\n",
    "\t\tcols.append(df.shift(i))\n",
    "\t\tnames += [('var%d(t-%d)' % (j+1, i)) for j in range(n_vars)]\n",
    "\t# forecast sequence (t, t+1, ... t+n)\n",
    "\tfor i in range(0, n_out):\n",
    "\t\tcols.append(df.shift(-i))\n",
    "\t\tif i == 0:\n",
    "\t\t\tnames += [('var%d(t)' % (j+1)) for j in range(n_vars)]\n",
    "\t\telse:\n",
    "\t\t\tnames += [('var%d(t+%d)' % (j+1, i)) for j in range(n_vars)]\n",
    "\t# put it all together\n",
    "\tagg = concat(cols, axis=1)\n",
    "\tagg.columns = names\n",
    "\t# drop rows with NaN values\n",
    "\tif dropnan:\n",
    "\t\tagg.dropna(inplace=True)\n",
    "\treturn agg"
   ]
  },
  {
   "cell_type": "code",
   "execution_count": 4,
   "metadata": {},
   "outputs": [
    {
     "data": {
      "image/png": "[encoded data removed]",
      "text/plain": [
       "<Figure size 432x288 with 1 Axes>"
      ]
     },
     "metadata": {
      "needs_background": "light"
     },
     "output_type": "display_data"
    }
   ],
   "source": [
    "pyplot.plot(df['Close'].values, label='price')\n",
    "pyplot.legend()\n",
    "pyplot.show()"
   ]
  },
  {
   "cell_type": "code",
   "execution_count": 5,
   "metadata": {},
   "outputs": [
    {
     "data": {
      "text/plain": [
       "<matplotlib.axes._subplots.AxesSubplot at 0x1a366a15f8>"
      ]
     },
     "execution_count": 5,
     "metadata": {},
     "output_type": "execute_result"
    },
    {
     "data": {
      "image/png": "[encoded data removed]",
      "text/plain": [
       "<Figure size 432x288 with 2 Axes>"
      ]
     },
     "metadata": {
      "needs_background": "light"
     },
     "output_type": "display_data"
    }
   ],
   "source": [
    "sns.heatmap(df.corr(), annot=True, cmap='RdYlGn', linewidths=0.1, vmin=0)"
   ]
  },
  {
   "cell_type": "code",
   "execution_count": 6,
   "metadata": {},
   "outputs": [
    {
     "name": "stdout",
     "output_type": "stream",
     "text": [
      "[[3697.72999999]\n",
      " [3695.17914064]\n",
      " [3703.        ]\n",
      " ...\n",
      " [7823.31328444]\n",
      " [7825.63875318]\n",
      " [7813.8185756 ]]\n"
     ]
    }
   ],
   "source": [
    "\n",
    "# load dataset\n",
    "#dataset = read_csv('update_20190301_bitbank_f.csv', header=0, index_col=0)\n",
    "#values = dataset.values\n",
    "\n",
    "#dataset.head()\n",
    "\n",
    "values = df['Close'].values\n",
    "values = values.reshape(-1, 1)\n",
    "print(values)"
   ]
  },
  {
   "cell_type": "code",
   "execution_count": 7,
   "metadata": {},
   "outputs": [],
   "source": [
    "\n",
    "# ensure all data is float\n",
    "values = values.astype('float32')\n",
    "# normalize features\n",
    "scaler = MinMaxScaler(feature_range=(0, 1))\n",
    "scaled = scaler.fit_transform(values)\n",
    "# frame as supervised learning\n",
    "reframed = series_to_supervised(scaled, 1, 1)\n",
    "\n",
    "#test =  series_to_supervised(values, 1, 1)\n",
    "#print(test.head())\n",
    "#print(test.shape)\n"
   ]
  },
  {
   "cell_type": "code",
   "execution_count": 8,
   "metadata": {},
   "outputs": [
    {
     "data": {
      "text/html": [
       "<div>\n",
       "<style scoped>\n",
       "    .dataframe tbody tr th:only-of-type {\n",
       "        vertical-align: middle;\n",
       "    }\n",
       "\n",
       "    .dataframe tbody tr th {\n",
       "        vertical-align: top;\n",
       "    }\n",
       "\n",
       "    .dataframe thead th {\n",
       "        text-align: right;\n",
       "    }\n",
       "</style>\n",
       "<table border=\"1\" class=\"dataframe\">\n",
       "  <thead>\n",
       "    <tr style=\"text-align: right;\">\n",
       "      <th></th>\n",
       "      <th>var1(t-1)</th>\n",
       "      <th>var1(t)</th>\n",
       "    </tr>\n",
       "  </thead>\n",
       "  <tbody>\n",
       "    <tr>\n",
       "      <th>1</th>\n",
       "      <td>0.068520</td>\n",
       "      <td>0.068006</td>\n",
       "    </tr>\n",
       "    <tr>\n",
       "      <th>2</th>\n",
       "      <td>0.068006</td>\n",
       "      <td>0.069584</td>\n",
       "    </tr>\n",
       "    <tr>\n",
       "      <th>3</th>\n",
       "      <td>0.069584</td>\n",
       "      <td>0.069584</td>\n",
       "    </tr>\n",
       "    <tr>\n",
       "      <th>4</th>\n",
       "      <td>0.069584</td>\n",
       "      <td>0.067284</td>\n",
       "    </tr>\n",
       "    <tr>\n",
       "      <th>5</th>\n",
       "      <td>0.067284</td>\n",
       "      <td>0.069181</td>\n",
       "    </tr>\n",
       "  </tbody>\n",
       "</table>\n",
       "</div>"
      ],
      "text/plain": [
       "   var1(t-1)   var1(t)\n",
       "1   0.068520  0.068006\n",
       "2   0.068006  0.069584\n",
       "3   0.069584  0.069584\n",
       "4   0.069584  0.067284\n",
       "5   0.067284  0.069181"
      ]
     },
     "execution_count": 8,
     "metadata": {},
     "output_type": "execute_result"
    }
   ],
   "source": [
    "reframed.head()"
   ]
  },
  {
   "cell_type": "code",
   "execution_count": 9,
   "metadata": {},
   "outputs": [
    {
     "name": "stdout",
     "output_type": "stream",
     "text": [
      "(13747, 2)\n",
      "12352\n",
      "(12352, 1, 1) (12352,) (1376, 1, 1) (1376,)\n"
     ]
    }
   ],
   "source": [
    "import math\n",
    "\n",
    "# drop columns we don't want to predict\n",
    "# 只留下 close 列\n",
    "#reframed.drop(reframed.columns[[6, 7, 8, 10, 11]], axis=1, inplace=True)\n",
    "#print(reframed.head())\n",
    " \n",
    "# split into train and test sets\n",
    "values = reframed.values\n",
    "print(values.shape)\n",
    "\n",
    "batch_size=32\n",
    "\n",
    "n_train_rate = 0.9\n",
    "n_train = int(values.shape[0] * n_train_rate)\n",
    "#n_train = math.floor(n_train)\n",
    "n_train -= n_train % batch_size\n",
    "print(n_train)\n",
    "\n",
    "train = values[:n_train, :]\n",
    "test = values[n_train:, :]\n",
    "\n",
    "# tweak to match with batch_size\n",
    "to_drop = values.shape[0] % batch_size\n",
    "if to_drop > 0:\n",
    "    test = test[:-1 * to_drop]        \n",
    "\n",
    "# split into input and outputs\n",
    "train_X, train_y = train[:, :-1], train[:, -1]\n",
    "test_X, test_y = test[:, :-1], test[:, -1]\n",
    "# reshape input to be 3D [samples, timesteps, features]\n",
    "train_X = train_X.reshape((train_X.shape[0], 1, train_X.shape[1]))\n",
    "test_X = test_X.reshape((test_X.shape[0], 1, test_X.shape[1]))\n",
    "print(train_X.shape, train_y.shape, test_X.shape, test_y.shape)\n"
   ]
  },
  {
   "cell_type": "code",
   "execution_count": 10,
   "metadata": {},
   "outputs": [],
   "source": [
    "#!pip install tqdm --upgrade\n",
    "#!pip install hyperopt --upgrade\n",
    "#!pip install hyperas --upgrade\n",
    "#!pip install talos"
   ]
  },
  {
   "cell_type": "code",
   "execution_count": 11,
   "metadata": {
    "scrolled": true
   },
   "outputs": [
    {
     "name": "stdout",
     "output_type": "stream",
     "text": [
      "[[0.06852049]]\n",
      "WARNING:tensorflow:From /Users/liran/anaconda3/lib/python3.7/site-packages/tensorflow/python/framework/op_def_library.py:263: colocate_with (from tensorflow.python.framework.ops) is deprecated and will be removed in a future version.\n",
      "Instructions for updating:\n",
      "Colocations handled automatically by placer.\n",
      "WARNING:tensorflow:From /Users/liran/anaconda3/lib/python3.7/site-packages/tensorflow/python/ops/math_ops.py:3066: to_int32 (from tensorflow.python.ops.math_ops) is deprecated and will be removed in a future version.\n",
      "Instructions for updating:\n",
      "Use tf.cast instead.\n",
      "Train on 12352 samples, validate on 1376 samples\n",
      "Epoch 1/50\n",
      "12352/12352 [==============================] - 1s 102us/step - loss: 0.0185 - val_loss: 0.0953 0s - loss: 0.018\n",
      "Epoch 2/50\n",
      "12352/12352 [==============================] - 1s 54us/step - loss: 0.0210 - val_loss: 0.0995\n",
      "Epoch 3/50\n",
      "12352/12352 [==============================] - 1s 50us/step - loss: 0.0169 - val_loss: 0.0338\n",
      "Epoch 4/50\n",
      "12352/12352 [==============================] - 1s 50us/step - loss: 0.0162 - val_loss: 0.0259\n",
      "Epoch 5/50\n",
      "12352/12352 [==============================] - 1s 69us/step - loss: 0.0147 - val_loss: 0.0385\n",
      "Epoch 6/50\n",
      "12352/12352 [==============================] - ETA: 0s - loss: 0.011 - 1s 83us/step - loss: 0.0113 - val_loss: 0.0335\n",
      "Epoch 7/50\n",
      "12352/12352 [==============================] - 1s 83us/step - loss: 0.0105 - val_loss: 0.0309\n",
      "Epoch 8/50\n",
      "12352/12352 [==============================] - 1s 69us/step - loss: 0.0105 - val_loss: 0.0269\n",
      "Epoch 9/50\n",
      "12352/12352 [==============================] - 1s 55us/step - loss: 0.0109 - val_loss: 0.0225\n",
      "Epoch 10/50\n",
      "12352/12352 [==============================] - 1s 58us/step - loss: 0.0112 - val_loss: 0.0218\n",
      "Epoch 11/50\n",
      "12352/12352 [==============================] - 1s 63us/step - loss: 0.0117 - val_loss: 0.0257\n",
      "Epoch 12/50\n",
      "12352/12352 [==============================] - 1s 96us/step - loss: 0.0120 - val_loss: 0.0234\n",
      "Epoch 13/50\n",
      "12352/12352 [==============================] - 1s 92us/step - loss: 0.0112 - val_loss: 0.0239\n",
      "Epoch 14/50\n",
      "12352/12352 [==============================] - 1s 64us/step - loss: 0.0102 - val_loss: 0.0237\n",
      "Epoch 15/50\n",
      "12352/12352 [==============================] - 1s 52us/step - loss: 0.0105 - val_loss: 0.0228\n",
      "Epoch 16/50\n",
      "12352/12352 [==============================] - 1s 59us/step - loss: 0.0100 - val_loss: 0.0238\n",
      "Epoch 17/50\n",
      "12352/12352 [==============================] - 1s 53us/step - loss: 0.0097 - val_loss: 0.0308\n",
      "Epoch 18/50\n",
      "12352/12352 [==============================] - 1s 51us/step - loss: 0.0096 - val_loss: 0.0367\n",
      "Epoch 19/50\n",
      "12352/12352 [==============================] - 1s 51us/step - loss: 0.0095 - val_loss: 0.0408\n",
      "Epoch 20/50\n",
      "12352/12352 [==============================] - 1s 50us/step - loss: 0.0087 - val_loss: 0.0369\n",
      "Epoch 21/50\n",
      "12352/12352 [==============================] - 1s 84us/step - loss: 0.0089 - val_loss: 0.0415\n",
      "Epoch 22/50\n",
      "12352/12352 [==============================] - 1s 87us/step - loss: 0.0098 - val_loss: 0.0471\n",
      "Epoch 23/50\n",
      "12352/12352 [==============================] - 1s 59us/step - loss: 0.0103 - val_loss: 0.0538\n",
      "Epoch 24/50\n",
      "12352/12352 [==============================] - 1s 52us/step - loss: 0.0102 - val_loss: 0.0758\n",
      "Epoch 25/50\n",
      "12352/12352 [==============================] - 1s 74us/step - loss: 0.0121 - val_loss: 0.2508\n",
      "Epoch 26/50\n",
      "12352/12352 [==============================] - 1s 68us/step - loss: 0.0471 - val_loss: 0.3060\n",
      "Epoch 27/50\n",
      "12352/12352 [==============================] - 1s 46us/step - loss: 0.0479 - val_loss: 0.2107\n",
      "Epoch 28/50\n",
      "12352/12352 [==============================] - 1s 47us/step - loss: 0.0520 - val_loss: 0.2197\n",
      "Epoch 29/50\n",
      "12352/12352 [==============================] - 1s 48us/step - loss: 0.0385 - val_loss: 0.1842\n",
      "Epoch 30/50\n",
      "12352/12352 [==============================] - 1s 50us/step - loss: 0.0326 - val_loss: 0.1624\n",
      "Epoch 31/50\n",
      "12352/12352 [==============================] - 1s 51us/step - loss: 0.0359 - val_loss: 0.1232\n",
      "Epoch 32/50\n",
      "12352/12352 [==============================] - 1s 58us/step - loss: 0.0305 - val_loss: 0.1311\n",
      "Epoch 33/50\n",
      "12352/12352 [==============================] - 1s 56us/step - loss: 0.0283 - val_loss: 0.1597\n",
      "Epoch 34/50\n",
      "12352/12352 [==============================] - 1s 56us/step - loss: 0.0262 - val_loss: 0.2347\n",
      "Epoch 35/50\n",
      "12352/12352 [==============================] - 1s 48us/step - loss: 0.0252 - val_loss: 0.2720\n",
      "Epoch 36/50\n",
      "12352/12352 [==============================] - 1s 46us/step - loss: 0.0301 - val_loss: 0.1836\n",
      "Epoch 37/50\n",
      "12352/12352 [==============================] - 1s 48us/step - loss: 0.0236 - val_loss: 0.1666\n",
      "Epoch 38/50\n",
      "12352/12352 [==============================] - 1s 46us/step - loss: 0.0234 - val_loss: 0.0766\n",
      "Epoch 39/50\n",
      "12352/12352 [==============================] - 1s 46us/step - loss: 0.0286 - val_loss: 0.1524\n",
      "Epoch 40/50\n",
      "12352/12352 [==============================] - 1s 46us/step - loss: 0.0307 - val_loss: 0.1548\n",
      "Epoch 41/50\n",
      "12352/12352 [==============================] - 1s 47us/step - loss: 0.0369 - val_loss: 0.0380\n",
      "Epoch 42/50\n",
      "12352/12352 [==============================] - 1s 46us/step - loss: 0.0269 - val_loss: 0.0953\n",
      "Epoch 43/50\n",
      "12352/12352 [==============================] - 1s 49us/step - loss: 0.0246 - val_loss: 0.0564\n",
      "Epoch 44/50\n",
      "12352/12352 [==============================] - 1s 47us/step - loss: 0.0170 - val_loss: 0.0606\n",
      "Epoch 45/50\n",
      "12352/12352 [==============================] - 1s 46us/step - loss: 0.0179 - val_loss: 0.0890\n",
      "Epoch 46/50\n",
      "12352/12352 [==============================] - 1s 46us/step - loss: 0.0147 - val_loss: 0.1027\n",
      "Epoch 47/50\n",
      "12352/12352 [==============================] - 1s 46us/step - loss: 0.0141 - val_loss: 0.0736\n",
      "Epoch 48/50\n",
      "12352/12352 [==============================] - 1s 46us/step - loss: 0.0154 - val_loss: 0.0761\n",
      "Epoch 49/50\n",
      "12352/12352 [==============================] - 1s 46us/step - loss: 0.0124 - val_loss: 0.1210\n",
      "Epoch 50/50\n",
      "12352/12352 [==============================] - 1s 46us/step - loss: 0.0103 - val_loss: 0.1019\n"
     ]
    },
    {
     "data": {
      "text/plain": [
       "\"\\ndef create_model():\\n    model = Sequential()\\n    model.add(LSTM(50, input_shape=(train_X.shape[1], train_X.shape[2]), return_sequences=False))\\n    model.add(Dense(1))\\n    model.compile(loss='mae', optimizer='adam')\\n    return model\\n\\nmodel=KerasRegressor(build_fn=create_model, epochs=10, verbose=1)\\n\\n\\np = {\\n    'epochs': [10, 25, 50],\\n    'batch_size': [16, 32, 50]\\n}\\n\\nparam_grid = {\\n#    'clf__neurons_input':   [20, 25, 30, 35],\\n    'batch_size': [40,60,80], \\n    'epochs': [10, 25, 50]\\n#    'clf__optimizer': ['Adam', 'Adadelta']\\n}\\n\\ngrid = GridSearchCV(estimator=model, param_grid=p, scoring='neg_mean_squared_error',\\n                               verbose=3,n_jobs=1)\\n\\n    # fit network\\n#history = model.fit(train_X, train_y, epochs=50, batch_size=50, validation_data=(test_X, test_y), verbose=2, shuffle=False)\\n\\ngrid.fit(train_X, train_y, validation_data=(test_X, test_y), verbose=2, shuffle=False)\\n\""
      ]
     },
     "execution_count": 11,
     "metadata": {},
     "output_type": "execute_result"
    }
   ],
   "source": [
    "print(train_X[0])\n",
    "\n",
    "#import talos\n",
    "from keras.wrappers.scikit_learn import KerasClassifier, KerasRegressor\n",
    "from sklearn.model_selection import RandomizedSearchCV, GridSearchCV\n",
    "\n",
    "\n",
    "epoch = 10\n",
    "\n",
    "'''\n",
    "# design network\n",
    "def myModel(train_X, train_y, test_X, test_y, params):\n",
    "    model = Sequential()\n",
    "    model.add(LSTM(50, input_shape=(train_X.shape[1], train_X.shape[2]), return_sequences=False))\n",
    "    model.add(Dense(1))\n",
    "    model.compile(loss='mae', optimizer='adam')\n",
    "    # fit network\n",
    "    out = model.fit(train_X, train_y, epochs=params['epochs'], batch_size=params['batch_size'], validation_data=(test_X, test_y), verbose=2, shuffle=False)\n",
    "    return out, model\n",
    "\n",
    "model = talos.Scan(train_X, train_y, params=p, model=myModel)\n",
    "'''\n",
    "\n",
    "model = Sequential()\n",
    "model.add(LSTM(50, input_shape=(train_X.shape[1], train_X.shape[2]), batch_size=batch_size,\n",
    "               return_sequences=False, stateful=True))\n",
    "model.add(Dense(1))\n",
    "model.compile(loss='mae', optimizer='adam')\n",
    "    # fit network\n",
    "history = model.fit(train_X, train_y, epochs=epoch, batch_size=batch_size, validation_data=(test_X, test_y), verbose=1, shuffle=False)\n",
    "#'''\n",
    "'''\n",
    "def create_model():\n",
    "    model = Sequential()\n",
    "    model.add(LSTM(50, input_shape=(train_X.shape[1], train_X.shape[2]), return_sequences=False))\n",
    "    model.add(Dense(1))\n",
    "    model.compile(loss='mae', optimizer='adam')\n",
    "    return model\n",
    "\n",
    "model=KerasRegressor(build_fn=create_model, epochs=10, verbose=1)\n",
    "\n",
    "\n",
    "p = {\n",
    "    'epochs': [10, 25, 50],\n",
    "    'batch_size': [16, 32, 50]\n",
    "}\n",
    "\n",
    "param_grid = {\n",
    "#    'clf__neurons_input':   [20, 25, 30, 35],\n",
    "    'batch_size': [40,60,80], \n",
    "    'epochs': [10, 25, 50]\n",
    "#    'clf__optimizer': ['Adam', 'Adadelta']\n",
    "}\n",
    "\n",
    "grid = GridSearchCV(estimator=model, param_grid=p, scoring='neg_mean_squared_error',\n",
    "                               verbose=3,n_jobs=1)\n",
    "\n",
    "    # fit network\n",
    "#history = model.fit(train_X, train_y, epochs=50, batch_size=50, validation_data=(test_X, test_y), verbose=2, shuffle=False)\n",
    "\n",
    "grid.fit(train_X, train_y, validation_data=(test_X, test_y), verbose=2, shuffle=False)\n",
    "'''\n"
   ]
  },
  {
   "cell_type": "code",
   "execution_count": 12,
   "metadata": {},
   "outputs": [
    {
     "data": {
      "text/plain": [
       "'\\nprint(grid.best_params_)\\nprint(grid.score)\\n'"
      ]
     },
     "execution_count": 12,
     "metadata": {},
     "output_type": "execute_result"
    }
   ],
   "source": [
    "'''\n",
    "print(grid.best_params_)\n",
    "print(grid.score)\n",
    "'''"
   ]
  },
  {
   "cell_type": "code",
   "execution_count": 13,
   "metadata": {},
   "outputs": [
    {
     "data": {
      "text/plain": [
       "\"\\n# plot history\\npyplot.plot(history.history['loss'], label='train')\\npyplot.plot(history.history['val_loss'], label='test')\\npyplot.legend()\\npyplot.show()\\n\""
      ]
     },
     "execution_count": 13,
     "metadata": {},
     "output_type": "execute_result"
    }
   ],
   "source": [
    "'''\n",
    "# plot history\n",
    "pyplot.plot(history.history['loss'], label='train')\n",
    "pyplot.plot(history.history['val_loss'], label='test')\n",
    "pyplot.legend()\n",
    "pyplot.show()\n",
    "'''"
   ]
  },
  {
   "cell_type": "code",
   "execution_count": 14,
   "metadata": {},
   "outputs": [
    {
     "name": "stdout",
     "output_type": "stream",
     "text": [
      "[[[0.54243565]]\n",
      "\n",
      " [[0.5450585 ]]\n",
      "\n",
      " [[0.54638827]]\n",
      "\n",
      " ...\n",
      "\n",
      " [[0.9085047 ]]\n",
      "\n",
      " [[0.9123614 ]]\n",
      "\n",
      " [[0.9063058 ]]]\n",
      "[0.5450585  0.54638827 0.55026937 ... 0.9123614  0.9063058  0.90034807]\n"
     ]
    }
   ],
   "source": [
    "print(test_X)\n",
    "print(test_y)"
   ]
  },
  {
   "cell_type": "code",
   "execution_count": 15,
   "metadata": {},
   "outputs": [
    {
     "name": "stdout",
     "output_type": "stream",
     "text": [
      "(1376, 1, 1)\n",
      "yhat [[0.54651904]\n",
      " [0.5481887 ]\n",
      " [0.5485567 ]\n",
      " ...\n",
      " [0.74742126]\n",
      " [0.75028723]\n",
      " [0.7469805 ]]\n",
      "yhat.shape (1376, 1)\n",
      "(1376, 1)\n",
      "inv_yhat.shape (1376, 1) [[6065.2246]\n",
      " [6073.494 ]\n",
      " [6075.317 ]\n",
      " [6084.2344]\n",
      " [6071.329 ]]\n",
      "inv_y.shape (1376,)\n",
      "Test RMSE: 637.653\n"
     ]
    }
   ],
   "source": [
    "print(test_X.shape)\n",
    "# make a prediction\n",
    "yhat = model.predict(test_X)\n",
    "#yhat = yhat.reshape((yhat.shape[0], 1, yhat.shape[1]))\n",
    "#yhat = model.predict(yhat)\n",
    "print('yhat', yhat)\n",
    "print('yhat.shape', yhat.shape)\n",
    "# after run grid.predict(), yhat is changed to a flat array, reshape to column-wise\n",
    "yhat = yhat.reshape(yhat.shape[0],1)\n",
    "\n",
    "\n",
    "test_X_reshape = test_X.reshape((test_X.shape[0], test_X.shape[2]))\n",
    "print(test_X_reshape.shape)\n",
    "#print(test_X_reshape[0:5, -7:])\n",
    "      \n",
    "# invert scaling for forecast\n",
    "inv_yhat = concatenate((yhat, test_X_reshape[:, 1:]), axis=1)\n",
    "inv_yhat = scaler.inverse_transform(inv_yhat)\n",
    "print('inv_yhat.shape', inv_yhat.shape, inv_yhat[0:5, :])\n",
    "\n",
    "inv_yhat = inv_yhat[:,0]\n",
    "\n",
    "# invert scaling for actual\n",
    "test_y = test_y.reshape((len(test_y), 1))\n",
    "inv_y = concatenate((test_y, test_X_reshape[:, 1:]), axis=1)\n",
    "inv_y = scaler.inverse_transform(inv_y)\n",
    "inv_y = inv_y[:,0]\n",
    "print('inv_y.shape', inv_y.shape)\n",
    "\n",
    "# calculate RMSE\n",
    "# 因为inv_y 预测是下一时刻的值，所以需要把 inv_yhat 往后 shift 一个时刻\n",
    "rmse = sqrt(mean_squared_error(inv_y, inv_yhat))\n",
    "print('Test RMSE: %.3f' % rmse)"
   ]
  },
  {
   "cell_type": "code",
   "execution_count": 16,
   "metadata": {},
   "outputs": [
    {
     "name": "stdout",
     "output_type": "stream",
     "text": [
      "(1376, 1, 1)\n"
     ]
    },
    {
     "data": {
      "image/png": "[encoded data removed]",
      "text/plain": [
       "<Figure size 432x288 with 1 Axes>"
      ]
     },
     "metadata": {
      "needs_background": "light"
     },
     "output_type": "display_data"
    },
    {
     "name": "stdout",
     "output_type": "stream",
     "text": [
      "650 / 1375 = 0.4727272727272727\n"
     ]
    }
   ],
   "source": [
    "print(test_X.shape)\n",
    "#print(range(test_X.shape))\n",
    "\n",
    "\n",
    "#pyplot.plot( inv_y[-100:-1], label='predict')\n",
    "#pyplot.plot( inv_yhat[-99:], label='actual')\n",
    "pyplot.plot( inv_y[1:], label='actual')\n",
    "pyplot.plot( inv_yhat[:-1], label='predict')\n",
    "pyplot.legend()\n",
    "pyplot.show()\n",
    "\n",
    "#涨跌的判准率\n",
    "\n",
    "#获取预测跟实际对应元素值，是否大于0\n",
    "a = np.diff(inv_y) > 0\n",
    "b = np.diff(inv_yhat) > 0\n",
    "\n",
    "#比较相同值的个数\n",
    "print(sum(a == b), '/', a.shape[0], '=', sum(a == b)/a.shape[0])"
   ]
  },
  {
   "cell_type": "code",
   "execution_count": 17,
   "metadata": {},
   "outputs": [
    {
     "name": "stdout",
     "output_type": "stream",
     "text": [
      "[[[0.54243565]]\n",
      "\n",
      " [[0.5450585 ]]\n",
      "\n",
      " [[0.54638827]]\n",
      "\n",
      " ...\n",
      "\n",
      " [[0.9085047 ]]\n",
      "\n",
      " [[0.9123614 ]]\n",
      "\n",
      " [[0.9063058 ]]]\n"
     ]
    }
   ],
   "source": [
    "print(test_X)"
   ]
  },
  {
   "cell_type": "code",
   "execution_count": 21,
   "metadata": {},
   "outputs": [
    {
     "name": "stdout",
     "output_type": "stream",
     "text": [
      "(1376, 1, 1)\n",
      "650 / 1375 = 0.4727272727272727\n"
     ]
    }
   ],
   "source": [
    "print(test_X.shape)\n",
    "#print(range(test_X.shape))\n",
    "\n",
    "'''\n",
    "pyplot.plot( inv_y[-49:], label='actual')\n",
    "pyplot.plot( inv_yhat[-50:-1], label='predict')\n",
    "pyplot.legend()\n",
    "pyplot.show()\n",
    "'''\n",
    "#涨跌的判准率\n",
    "\n",
    "#获取预测跟实际对应元素值，是否大于0\n",
    "a = np.diff(inv_y) > 0\n",
    "b = np.diff(inv_yhat) > 0\n",
    "\n",
    "#比较相同值的个数\n",
    "print(sum(a == b), '/', a.shape[0], '=', sum(a == b)/a.shape[0])"
   ]
  },
  {
   "cell_type": "code",
   "execution_count": 19,
   "metadata": {},
   "outputs": [
    {
     "data": {
      "image/png": "[encoded data removed]",
      "text/plain": [
       "<Figure size 432x288 with 1 Axes>"
      ]
     },
     "metadata": {
      "needs_background": "light"
     },
     "output_type": "display_data"
    }
   ],
   "source": [
    "pyplot.plot( inv_y[-50:], label='actual')\n",
    "pyplot.plot( inv_yhat[-50:], label='predict')\n",
    "pyplot.legend()\n",
    "pyplot.show()"
   ]
  },
  {
   "cell_type": "markdown",
   "metadata": {},
   "source": []
  }
 ],
 "metadata": {
  "kernelspec": {
   "display_name": "Python 3",
   "language": "python",
   "name": "python3"
  },
  "language_info": {
   "codemirror_mode": {
    "name": "ipython",
    "version": 3
   },
   "file_extension": ".py",
   "mimetype": "text/x-python",
   "name": "python",
   "nbconvert_exporter": "python",
   "pygments_lexer": "ipython3",
   "version": "3.7.1"
  }
 },
 "nbformat": 4,
 "nbformat_minor": 2
}
